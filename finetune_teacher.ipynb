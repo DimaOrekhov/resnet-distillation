{
  "nbformat": 4,
  "nbformat_minor": 0,
  "metadata": {
    "kernelspec": {
      "display_name": "Python 3",
      "language": "python",
      "name": "python3"
    },
    "language_info": {
      "codemirror_mode": {
        "name": "ipython",
        "version": 3
      },
      "file_extension": ".py",
      "mimetype": "text/x-python",
      "name": "python",
      "nbconvert_exporter": "python",
      "pygments_lexer": "ipython3",
      "version": "3.8.5"
    },
    "colab": {
      "name": "finetune_teacher.ipynb",
      "provenance": [],
      "collapsed_sections": []
    },
    "accelerator": "GPU",
    "widgets": {
      "application/vnd.jupyter.widget-state+json": {
        "67542afeceaf4474ab2a2095704760c5": {
          "model_module": "@jupyter-widgets/controls",
          "model_name": "VBoxModel",
          "state": {
            "_view_name": "VBoxView",
            "_dom_classes": [],
            "_model_name": "VBoxModel",
            "_view_module": "@jupyter-widgets/controls",
            "_model_module_version": "1.5.0",
            "_view_count": null,
            "_view_module_version": "1.5.0",
            "box_style": "",
            "layout": "IPY_MODEL_f2320748469142b69c3f1220c026dcb5",
            "_model_module": "@jupyter-widgets/controls",
            "children": [
              "IPY_MODEL_5110640896a040189dcb9fe239b03fff",
              "IPY_MODEL_9add98c330a04f3791b2f3053420fe71"
            ]
          }
        },
        "f2320748469142b69c3f1220c026dcb5": {
          "model_module": "@jupyter-widgets/base",
          "model_name": "LayoutModel",
          "state": {
            "_view_name": "LayoutView",
            "grid_template_rows": null,
            "right": null,
            "justify_content": null,
            "_view_module": "@jupyter-widgets/base",
            "overflow": null,
            "_model_module_version": "1.2.0",
            "_view_count": null,
            "flex_flow": null,
            "width": null,
            "min_width": null,
            "border": null,
            "align_items": null,
            "bottom": null,
            "_model_module": "@jupyter-widgets/base",
            "top": null,
            "grid_column": null,
            "overflow_y": null,
            "overflow_x": null,
            "grid_auto_flow": null,
            "grid_area": null,
            "grid_template_columns": null,
            "flex": null,
            "_model_name": "LayoutModel",
            "justify_items": null,
            "grid_row": null,
            "max_height": null,
            "align_content": null,
            "visibility": null,
            "align_self": null,
            "height": null,
            "min_height": null,
            "padding": null,
            "grid_auto_rows": null,
            "grid_gap": null,
            "max_width": null,
            "order": null,
            "_view_module_version": "1.2.0",
            "grid_template_areas": null,
            "object_position": null,
            "object_fit": null,
            "grid_auto_columns": null,
            "margin": null,
            "display": null,
            "left": null
          }
        },
        "5110640896a040189dcb9fe239b03fff": {
          "model_module": "@jupyter-widgets/controls",
          "model_name": "LabelModel",
          "state": {
            "_view_name": "LabelView",
            "style": "IPY_MODEL_6241c88fe6b846a49d7d7f8dd43b1fcb",
            "_dom_classes": [],
            "description": "",
            "_model_name": "LabelModel",
            "placeholder": "​",
            "_view_module": "@jupyter-widgets/controls",
            "_model_module_version": "1.5.0",
            "value": " 4.22MB of 4.22MB uploaded (0.00MB deduped)\r",
            "_view_count": null,
            "_view_module_version": "1.5.0",
            "description_tooltip": null,
            "_model_module": "@jupyter-widgets/controls",
            "layout": "IPY_MODEL_0bbfd9396919439385e00617b035fa24"
          }
        },
        "9add98c330a04f3791b2f3053420fe71": {
          "model_module": "@jupyter-widgets/controls",
          "model_name": "FloatProgressModel",
          "state": {
            "_view_name": "ProgressView",
            "style": "IPY_MODEL_8be4f6073d524b838b0603fe49f30393",
            "_dom_classes": [],
            "description": "",
            "_model_name": "FloatProgressModel",
            "bar_style": "",
            "max": 1,
            "_view_module": "@jupyter-widgets/controls",
            "_model_module_version": "1.5.0",
            "value": 1,
            "_view_count": null,
            "_view_module_version": "1.5.0",
            "orientation": "horizontal",
            "min": 0,
            "description_tooltip": null,
            "_model_module": "@jupyter-widgets/controls",
            "layout": "IPY_MODEL_80c3606839474a049bb0efc7ea535bae"
          }
        },
        "6241c88fe6b846a49d7d7f8dd43b1fcb": {
          "model_module": "@jupyter-widgets/controls",
          "model_name": "DescriptionStyleModel",
          "state": {
            "_view_name": "StyleView",
            "_model_name": "DescriptionStyleModel",
            "description_width": "",
            "_view_module": "@jupyter-widgets/base",
            "_model_module_version": "1.5.0",
            "_view_count": null,
            "_view_module_version": "1.2.0",
            "_model_module": "@jupyter-widgets/controls"
          }
        },
        "0bbfd9396919439385e00617b035fa24": {
          "model_module": "@jupyter-widgets/base",
          "model_name": "LayoutModel",
          "state": {
            "_view_name": "LayoutView",
            "grid_template_rows": null,
            "right": null,
            "justify_content": null,
            "_view_module": "@jupyter-widgets/base",
            "overflow": null,
            "_model_module_version": "1.2.0",
            "_view_count": null,
            "flex_flow": null,
            "width": null,
            "min_width": null,
            "border": null,
            "align_items": null,
            "bottom": null,
            "_model_module": "@jupyter-widgets/base",
            "top": null,
            "grid_column": null,
            "overflow_y": null,
            "overflow_x": null,
            "grid_auto_flow": null,
            "grid_area": null,
            "grid_template_columns": null,
            "flex": null,
            "_model_name": "LayoutModel",
            "justify_items": null,
            "grid_row": null,
            "max_height": null,
            "align_content": null,
            "visibility": null,
            "align_self": null,
            "height": null,
            "min_height": null,
            "padding": null,
            "grid_auto_rows": null,
            "grid_gap": null,
            "max_width": null,
            "order": null,
            "_view_module_version": "1.2.0",
            "grid_template_areas": null,
            "object_position": null,
            "object_fit": null,
            "grid_auto_columns": null,
            "margin": null,
            "display": null,
            "left": null
          }
        },
        "8be4f6073d524b838b0603fe49f30393": {
          "model_module": "@jupyter-widgets/controls",
          "model_name": "ProgressStyleModel",
          "state": {
            "_view_name": "StyleView",
            "_model_name": "ProgressStyleModel",
            "description_width": "",
            "_view_module": "@jupyter-widgets/base",
            "_model_module_version": "1.5.0",
            "_view_count": null,
            "_view_module_version": "1.2.0",
            "bar_color": null,
            "_model_module": "@jupyter-widgets/controls"
          }
        },
        "80c3606839474a049bb0efc7ea535bae": {
          "model_module": "@jupyter-widgets/base",
          "model_name": "LayoutModel",
          "state": {
            "_view_name": "LayoutView",
            "grid_template_rows": null,
            "right": null,
            "justify_content": null,
            "_view_module": "@jupyter-widgets/base",
            "overflow": null,
            "_model_module_version": "1.2.0",
            "_view_count": null,
            "flex_flow": null,
            "width": null,
            "min_width": null,
            "border": null,
            "align_items": null,
            "bottom": null,
            "_model_module": "@jupyter-widgets/base",
            "top": null,
            "grid_column": null,
            "overflow_y": null,
            "overflow_x": null,
            "grid_auto_flow": null,
            "grid_area": null,
            "grid_template_columns": null,
            "flex": null,
            "_model_name": "LayoutModel",
            "justify_items": null,
            "grid_row": null,
            "max_height": null,
            "align_content": null,
            "visibility": null,
            "align_self": null,
            "height": null,
            "min_height": null,
            "padding": null,
            "grid_auto_rows": null,
            "grid_gap": null,
            "max_width": null,
            "order": null,
            "_view_module_version": "1.2.0",
            "grid_template_areas": null,
            "object_position": null,
            "object_fit": null,
            "grid_auto_columns": null,
            "margin": null,
            "display": null,
            "left": null
          }
        }
      }
    }
  },
  "cells": [
    {
      "cell_type": "code",
      "metadata": {
        "colab": {
          "base_uri": "https://localhost:8080/"
        },
        "id": "ynaP1fUpMkDE",
        "outputId": "0144836b-03cb-46c7-ce01-cff993ba004e"
      },
      "source": [
        "from google.colab import drive\n",
        "drive.mount('/content/drive')"
      ],
      "execution_count": null,
      "outputs": [
        {
          "output_type": "stream",
          "text": [
            "Drive already mounted at /content/drive; to attempt to forcibly remount, call drive.mount(\"/content/drive\", force_remount=True).\n"
          ],
          "name": "stdout"
        }
      ]
    },
    {
      "cell_type": "code",
      "metadata": {
        "colab": {
          "base_uri": "https://localhost:8080/"
        },
        "id": "6Ubs6OLMMoay",
        "outputId": "3429088e-a67e-48ff-ce8e-50f9d12bc76c"
      },
      "source": [
        "!pip install wandb\n",
        "!pip install catalyst"
      ],
      "execution_count": null,
      "outputs": [
        {
          "output_type": "stream",
          "text": [
            "Requirement already satisfied: wandb in /usr/local/lib/python3.6/dist-packages (0.10.11)\n",
            "Requirement already satisfied: requests<3,>=2.0.0 in /usr/local/lib/python3.6/dist-packages (from wandb) (2.23.0)\n",
            "Requirement already satisfied: configparser>=3.8.1 in /usr/local/lib/python3.6/dist-packages (from wandb) (5.0.1)\n",
            "Requirement already satisfied: sentry-sdk>=0.4.0 in /usr/local/lib/python3.6/dist-packages (from wandb) (0.19.4)\n",
            "Requirement already satisfied: GitPython>=1.0.0 in /usr/local/lib/python3.6/dist-packages (from wandb) (3.1.11)\n",
            "Requirement already satisfied: six>=1.13.0 in /usr/local/lib/python3.6/dist-packages (from wandb) (1.15.0)\n",
            "Requirement already satisfied: psutil>=5.0.0 in /usr/local/lib/python3.6/dist-packages (from wandb) (5.4.8)\n",
            "Requirement already satisfied: protobuf>=3.12.0 in /usr/local/lib/python3.6/dist-packages (from wandb) (3.12.4)\n",
            "Requirement already satisfied: promise<3,>=2.0 in /usr/local/lib/python3.6/dist-packages (from wandb) (2.3)\n",
            "Requirement already satisfied: docker-pycreds>=0.4.0 in /usr/local/lib/python3.6/dist-packages (from wandb) (0.4.0)\n",
            "Requirement already satisfied: PyYAML in /usr/local/lib/python3.6/dist-packages (from wandb) (3.13)\n",
            "Requirement already satisfied: watchdog>=0.8.3 in /usr/local/lib/python3.6/dist-packages (from wandb) (0.10.4)\n",
            "Requirement already satisfied: python-dateutil>=2.6.1 in /usr/local/lib/python3.6/dist-packages (from wandb) (2.8.1)\n",
            "Requirement already satisfied: subprocess32>=3.5.3 in /usr/local/lib/python3.6/dist-packages (from wandb) (3.5.4)\n",
            "Requirement already satisfied: shortuuid>=0.5.0 in /usr/local/lib/python3.6/dist-packages (from wandb) (1.0.1)\n",
            "Requirement already satisfied: Click>=7.0 in /usr/local/lib/python3.6/dist-packages (from wandb) (7.1.2)\n",
            "Requirement already satisfied: urllib3!=1.25.0,!=1.25.1,<1.26,>=1.21.1 in /usr/local/lib/python3.6/dist-packages (from requests<3,>=2.0.0->wandb) (1.24.3)\n",
            "Requirement already satisfied: chardet<4,>=3.0.2 in /usr/local/lib/python3.6/dist-packages (from requests<3,>=2.0.0->wandb) (3.0.4)\n",
            "Requirement already satisfied: certifi>=2017.4.17 in /usr/local/lib/python3.6/dist-packages (from requests<3,>=2.0.0->wandb) (2020.11.8)\n",
            "Requirement already satisfied: idna<3,>=2.5 in /usr/local/lib/python3.6/dist-packages (from requests<3,>=2.0.0->wandb) (2.10)\n",
            "Requirement already satisfied: gitdb<5,>=4.0.1 in /usr/local/lib/python3.6/dist-packages (from GitPython>=1.0.0->wandb) (4.0.5)\n",
            "Requirement already satisfied: setuptools in /usr/local/lib/python3.6/dist-packages (from protobuf>=3.12.0->wandb) (50.3.2)\n",
            "Requirement already satisfied: pathtools>=0.1.1 in /usr/local/lib/python3.6/dist-packages (from watchdog>=0.8.3->wandb) (0.1.2)\n",
            "Requirement already satisfied: smmap<4,>=3.0.1 in /usr/local/lib/python3.6/dist-packages (from gitdb<5,>=4.0.1->GitPython>=1.0.0->wandb) (3.0.4)\n",
            "Requirement already satisfied: catalyst in /usr/local/lib/python3.6/dist-packages (20.11)\n",
            "Requirement already satisfied: tqdm>=4.33.0 in /usr/local/lib/python3.6/dist-packages (from catalyst) (4.41.1)\n",
            "Requirement already satisfied: matplotlib in /usr/local/lib/python3.6/dist-packages (from catalyst) (3.2.2)\n",
            "Requirement already satisfied: torch>=1.1.0 in /usr/local/lib/python3.6/dist-packages (from catalyst) (1.7.0+cu101)\n",
            "Requirement already satisfied: scikit-learn>=0.20 in /usr/local/lib/python3.6/dist-packages (from catalyst) (0.22.2.post1)\n",
            "Requirement already satisfied: packaging in /usr/local/lib/python3.6/dist-packages (from catalyst) (20.4)\n",
            "Requirement already satisfied: deprecation in /usr/local/lib/python3.6/dist-packages (from catalyst) (2.1.0)\n",
            "Requirement already satisfied: tensorboardX in /usr/local/lib/python3.6/dist-packages (from catalyst) (2.1)\n",
            "Requirement already satisfied: numpy>=1.16.4 in /usr/local/lib/python3.6/dist-packages (from catalyst) (1.18.5)\n",
            "Requirement already satisfied: plotly>=4.1.0 in /usr/local/lib/python3.6/dist-packages (from catalyst) (4.4.1)\n",
            "Requirement already satisfied: PyYAML in /usr/local/lib/python3.6/dist-packages (from catalyst) (3.13)\n",
            "Requirement already satisfied: ipython in /usr/local/lib/python3.6/dist-packages (from catalyst) (5.5.0)\n",
            "Requirement already satisfied: pandas>=0.22 in /usr/local/lib/python3.6/dist-packages (from catalyst) (1.1.4)\n",
            "Requirement already satisfied: tensorboard>=1.14.0 in /usr/local/lib/python3.6/dist-packages (from catalyst) (2.3.0)\n",
            "Requirement already satisfied: GitPython>=3.1.1 in /usr/local/lib/python3.6/dist-packages (from catalyst) (3.1.11)\n",
            "Requirement already satisfied: kiwisolver>=1.0.1 in /usr/local/lib/python3.6/dist-packages (from matplotlib->catalyst) (1.3.1)\n",
            "Requirement already satisfied: pyparsing!=2.0.4,!=2.1.2,!=2.1.6,>=2.0.1 in /usr/local/lib/python3.6/dist-packages (from matplotlib->catalyst) (2.4.7)\n",
            "Requirement already satisfied: cycler>=0.10 in /usr/local/lib/python3.6/dist-packages (from matplotlib->catalyst) (0.10.0)\n",
            "Requirement already satisfied: python-dateutil>=2.1 in /usr/local/lib/python3.6/dist-packages (from matplotlib->catalyst) (2.8.1)\n",
            "Requirement already satisfied: future in /usr/local/lib/python3.6/dist-packages (from torch>=1.1.0->catalyst) (0.16.0)\n",
            "Requirement already satisfied: dataclasses in /usr/local/lib/python3.6/dist-packages (from torch>=1.1.0->catalyst) (0.8)\n",
            "Requirement already satisfied: typing-extensions in /usr/local/lib/python3.6/dist-packages (from torch>=1.1.0->catalyst) (3.7.4.3)\n",
            "Requirement already satisfied: scipy>=0.17.0 in /usr/local/lib/python3.6/dist-packages (from scikit-learn>=0.20->catalyst) (1.4.1)\n",
            "Requirement already satisfied: joblib>=0.11 in /usr/local/lib/python3.6/dist-packages (from scikit-learn>=0.20->catalyst) (0.17.0)\n",
            "Requirement already satisfied: six in /usr/local/lib/python3.6/dist-packages (from packaging->catalyst) (1.15.0)\n",
            "Requirement already satisfied: protobuf>=3.8.0 in /usr/local/lib/python3.6/dist-packages (from tensorboardX->catalyst) (3.12.4)\n",
            "Requirement already satisfied: retrying>=1.3.3 in /usr/local/lib/python3.6/dist-packages (from plotly>=4.1.0->catalyst) (1.3.3)\n",
            "Requirement already satisfied: prompt-toolkit<2.0.0,>=1.0.4 in /usr/local/lib/python3.6/dist-packages (from ipython->catalyst) (1.0.18)\n",
            "Requirement already satisfied: pygments in /usr/local/lib/python3.6/dist-packages (from ipython->catalyst) (2.6.1)\n",
            "Requirement already satisfied: decorator in /usr/local/lib/python3.6/dist-packages (from ipython->catalyst) (4.4.2)\n",
            "Requirement already satisfied: traitlets>=4.2 in /usr/local/lib/python3.6/dist-packages (from ipython->catalyst) (4.3.3)\n",
            "Requirement already satisfied: setuptools>=18.5 in /usr/local/lib/python3.6/dist-packages (from ipython->catalyst) (50.3.2)\n",
            "Requirement already satisfied: pexpect; sys_platform != \"win32\" in /usr/local/lib/python3.6/dist-packages (from ipython->catalyst) (4.8.0)\n",
            "Requirement already satisfied: simplegeneric>0.8 in /usr/local/lib/python3.6/dist-packages (from ipython->catalyst) (0.8.1)\n",
            "Requirement already satisfied: pickleshare in /usr/local/lib/python3.6/dist-packages (from ipython->catalyst) (0.7.5)\n",
            "Requirement already satisfied: pytz>=2017.2 in /usr/local/lib/python3.6/dist-packages (from pandas>=0.22->catalyst) (2018.9)\n",
            "Requirement already satisfied: markdown>=2.6.8 in /usr/local/lib/python3.6/dist-packages (from tensorboard>=1.14.0->catalyst) (3.3.3)\n",
            "Requirement already satisfied: tensorboard-plugin-wit>=1.6.0 in /usr/local/lib/python3.6/dist-packages (from tensorboard>=1.14.0->catalyst) (1.7.0)\n",
            "Requirement already satisfied: google-auth<2,>=1.6.3 in /usr/local/lib/python3.6/dist-packages (from tensorboard>=1.14.0->catalyst) (1.17.2)\n",
            "Requirement already satisfied: werkzeug>=0.11.15 in /usr/local/lib/python3.6/dist-packages (from tensorboard>=1.14.0->catalyst) (1.0.1)\n",
            "Requirement already satisfied: grpcio>=1.24.3 in /usr/local/lib/python3.6/dist-packages (from tensorboard>=1.14.0->catalyst) (1.33.2)\n",
            "Requirement already satisfied: google-auth-oauthlib<0.5,>=0.4.1 in /usr/local/lib/python3.6/dist-packages (from tensorboard>=1.14.0->catalyst) (0.4.2)\n",
            "Requirement already satisfied: absl-py>=0.4 in /usr/local/lib/python3.6/dist-packages (from tensorboard>=1.14.0->catalyst) (0.10.0)\n",
            "Requirement already satisfied: requests<3,>=2.21.0 in /usr/local/lib/python3.6/dist-packages (from tensorboard>=1.14.0->catalyst) (2.23.0)\n",
            "Requirement already satisfied: wheel>=0.26; python_version >= \"3\" in /usr/local/lib/python3.6/dist-packages (from tensorboard>=1.14.0->catalyst) (0.35.1)\n",
            "Requirement already satisfied: gitdb<5,>=4.0.1 in /usr/local/lib/python3.6/dist-packages (from GitPython>=3.1.1->catalyst) (4.0.5)\n",
            "Requirement already satisfied: wcwidth in /usr/local/lib/python3.6/dist-packages (from prompt-toolkit<2.0.0,>=1.0.4->ipython->catalyst) (0.2.5)\n",
            "Requirement already satisfied: ipython-genutils in /usr/local/lib/python3.6/dist-packages (from traitlets>=4.2->ipython->catalyst) (0.2.0)\n",
            "Requirement already satisfied: ptyprocess>=0.5 in /usr/local/lib/python3.6/dist-packages (from pexpect; sys_platform != \"win32\"->ipython->catalyst) (0.6.0)\n",
            "Requirement already satisfied: importlib-metadata; python_version < \"3.8\" in /usr/local/lib/python3.6/dist-packages (from markdown>=2.6.8->tensorboard>=1.14.0->catalyst) (2.0.0)\n",
            "Requirement already satisfied: rsa<5,>=3.1.4; python_version >= \"3\" in /usr/local/lib/python3.6/dist-packages (from google-auth<2,>=1.6.3->tensorboard>=1.14.0->catalyst) (4.6)\n",
            "Requirement already satisfied: pyasn1-modules>=0.2.1 in /usr/local/lib/python3.6/dist-packages (from google-auth<2,>=1.6.3->tensorboard>=1.14.0->catalyst) (0.2.8)\n",
            "Requirement already satisfied: cachetools<5.0,>=2.0.0 in /usr/local/lib/python3.6/dist-packages (from google-auth<2,>=1.6.3->tensorboard>=1.14.0->catalyst) (4.1.1)\n",
            "Requirement already satisfied: requests-oauthlib>=0.7.0 in /usr/local/lib/python3.6/dist-packages (from google-auth-oauthlib<0.5,>=0.4.1->tensorboard>=1.14.0->catalyst) (1.3.0)\n",
            "Requirement already satisfied: idna<3,>=2.5 in /usr/local/lib/python3.6/dist-packages (from requests<3,>=2.21.0->tensorboard>=1.14.0->catalyst) (2.10)\n",
            "Requirement already satisfied: chardet<4,>=3.0.2 in /usr/local/lib/python3.6/dist-packages (from requests<3,>=2.21.0->tensorboard>=1.14.0->catalyst) (3.0.4)\n",
            "Requirement already satisfied: certifi>=2017.4.17 in /usr/local/lib/python3.6/dist-packages (from requests<3,>=2.21.0->tensorboard>=1.14.0->catalyst) (2020.11.8)\n",
            "Requirement already satisfied: urllib3!=1.25.0,!=1.25.1,<1.26,>=1.21.1 in /usr/local/lib/python3.6/dist-packages (from requests<3,>=2.21.0->tensorboard>=1.14.0->catalyst) (1.24.3)\n",
            "Requirement already satisfied: smmap<4,>=3.0.1 in /usr/local/lib/python3.6/dist-packages (from gitdb<5,>=4.0.1->GitPython>=3.1.1->catalyst) (3.0.4)\n",
            "Requirement already satisfied: zipp>=0.5 in /usr/local/lib/python3.6/dist-packages (from importlib-metadata; python_version < \"3.8\"->markdown>=2.6.8->tensorboard>=1.14.0->catalyst) (3.4.0)\n",
            "Requirement already satisfied: pyasn1>=0.1.3 in /usr/local/lib/python3.6/dist-packages (from rsa<5,>=3.1.4; python_version >= \"3\"->google-auth<2,>=1.6.3->tensorboard>=1.14.0->catalyst) (0.4.8)\n",
            "Requirement already satisfied: oauthlib>=3.0.0 in /usr/local/lib/python3.6/dist-packages (from requests-oauthlib>=0.7.0->google-auth-oauthlib<0.5,>=0.4.1->tensorboard>=1.14.0->catalyst) (3.1.0)\n"
          ],
          "name": "stdout"
        }
      ]
    },
    {
      "cell_type": "code",
      "metadata": {
        "colab": {
          "base_uri": "https://localhost:8080/"
        },
        "id": "bWPDnqGRNEgv",
        "outputId": "351c7ba9-da56-4a3b-b5ea-4915ada2071b"
      },
      "source": [
        "!wandb login"
      ],
      "execution_count": null,
      "outputs": [
        {
          "output_type": "stream",
          "text": [
            "\u001b[34m\u001b[1mwandb\u001b[0m: Currently logged in as: \u001b[33mdimaorekhov\u001b[0m (use `wandb login --relogin` to force relogin)\n"
          ],
          "name": "stdout"
        }
      ]
    },
    {
      "cell_type": "code",
      "metadata": {
        "id": "au-qsfR8MjI4"
      },
      "source": [
        "import torch\n",
        "from torch import nn\n",
        "from torch.utils.data import DataLoader\n",
        "import torchvision.models as models\n",
        "from torchvision import transforms, datasets\n",
        "from catalyst import dl\n",
        "from catalyst.contrib.callbacks import WandbLogger\n",
        "from catalyst.utils import set_global_seed\n",
        "from dataclasses import dataclass\n",
        "from tqdm.auto import tqdm\n",
        "from pathlib import Path"
      ],
      "execution_count": null,
      "outputs": []
    },
    {
      "cell_type": "code",
      "metadata": {
        "id": "paLv40ezMjI4"
      },
      "source": [
        "@dataclass\n",
        "class Config:\n",
        "\n",
        "    experiment_name: str = \"finetune-vgg-on-cifar-10\"\n",
        "\n",
        "    flip_prob: float = 0.5\n",
        "    rotation_degrees: float = 25\n",
        "\n",
        "    logdir: str = 'drive/MyDrive/logdir_tune'\n",
        "\n",
        "    n_conv_layers_to_tune: int = 1\n",
        "\n",
        "    max_lr: float = 1e-4\n",
        "    weight_decay: float = 0.000001\n",
        "\n",
        "    num_epochs: int = 25\n",
        "    batch_size: int = 32\n",
        "    patience: int = 3\n",
        "\n",
        "    seed: int = 21\n",
        "\n",
        "\n",
        "config = Config()\n",
        "set_global_seed(config.seed)"
      ],
      "execution_count": null,
      "outputs": []
    },
    {
      "cell_type": "code",
      "metadata": {
        "id": "Lzg0yirCMjI4"
      },
      "source": [
        "normalize = transforms.Normalize(\n",
        "    mean=[0.485, 0.456, 0.406],\n",
        "    std=[0.229, 0.224, 0.225]\n",
        ")\n",
        "\n",
        "train_transforms = transforms.Compose([\n",
        "    transforms.Resize(256),\n",
        "    transforms.RandomHorizontalFlip(config.flip_prob),\n",
        "    transforms.RandomRotation(config.rotation_degrees),\n",
        "    transforms.ToTensor(),\n",
        "    normalize\n",
        "])\n",
        "\n",
        "test_transforms = transforms.Compose([\n",
        "    transforms.Resize(256),\n",
        "    transforms.ToTensor(),\n",
        "    normalize\n",
        "])"
      ],
      "execution_count": null,
      "outputs": []
    },
    {
      "cell_type": "markdown",
      "metadata": {
        "id": "Op7OeETNMjI5"
      },
      "source": [
        "I will be first finetuning teacher on CIFAR10, since all pretrained torchvision models are for ImageNet.\n",
        "\n",
        "And the ImageNet itself is too large to handle with computational resources I have."
      ]
    },
    {
      "cell_type": "code",
      "metadata": {
        "colab": {
          "base_uri": "https://localhost:8080/"
        },
        "id": "qaTrIZVwMjI5",
        "outputId": "cba4d0ac-5a94-4723-a3f8-8aaa897aad2c"
      },
      "source": [
        "train = datasets.CIFAR10('data', train=True, download=True, transform=train_transforms)\n",
        "test = datasets.CIFAR10('data', train=False, download=True, transform=test_transforms)\n",
        "print(len(train))\n",
        "print(len(test))\n",
        "\n",
        "\n",
        "N_CLASSES = 10"
      ],
      "execution_count": null,
      "outputs": [
        {
          "output_type": "stream",
          "text": [
            "Files already downloaded and verified\n",
            "Files already downloaded and verified\n",
            "50000\n",
            "10000\n"
          ],
          "name": "stdout"
        }
      ]
    },
    {
      "cell_type": "code",
      "metadata": {
        "id": "WhomnAlJMjI5"
      },
      "source": [
        "teacher = models.resnet18(pretrained=True).eval()"
      ],
      "execution_count": null,
      "outputs": []
    },
    {
      "cell_type": "code",
      "metadata": {
        "id": "BCl6bV1DMjI5"
      },
      "source": [
        "def freeze_module(module: nn.Module):\n",
        "    for param in module.parameters():\n",
        "        param.requires_grad = False\n",
        "\n",
        "\n",
        "def unfreeze_module(module: nn.Module):\n",
        "    for param in module.parameters():\n",
        "        param.requires_grad = True\n",
        "\n",
        "\n",
        "freeze_module(teacher)\n",
        "teacher.fc = nn.Linear(512, N_CLASSES)\n",
        "\n",
        "\n",
        "conv_layers_to_tune = [\n",
        "    getattr(teacher, f\"layer{i}\")\n",
        "    for i in range(4, config.n_conv_layers_to_tune, -1)\n",
        "]\n",
        "for m in [teacher.fc] + conv_layers_to_tune:\n",
        "    unfreeze_module(m)\n",
        "    m.train()\n"
      ],
      "execution_count": null,
      "outputs": []
    },
    {
      "cell_type": "code",
      "metadata": {
        "id": "MzrrNc3EMjI5"
      },
      "source": [
        "loaders = {\n",
        "    'train': DataLoader(train, batch_size=config.batch_size, shuffle=True),\n",
        "    'valid': DataLoader(test, batch_size=config.batch_size)\n",
        "}\n",
        "\n",
        "criterion = nn.CrossEntropyLoss()\n",
        "optimizer = torch.optim.Adam(teacher.parameters(), weight_decay=config.weight_decay)\n",
        "scheduler = torch.optim.lr_scheduler.OneCycleLR(\n",
        "    optimizer,\n",
        "    max_lr=config.max_lr,\n",
        "    epochs=config.num_epochs,\n",
        "    steps_per_epoch=len(loaders['train'])\n",
        ")\n",
        "\n",
        "callbacks = [\n",
        "    dl.SchedulerCallback(mode='batch'),\n",
        "    dl.EarlyStoppingCallback(config.patience),\n",
        "    dl.AccuracyCallback(topk_args=[1, 3, 5], num_classes=N_CLASSES),\n",
        "    WandbLogger(\n",
        "        project='dl-course',\n",
        "        entity='dimaorekhov',\n",
        "        group='distillation',\n",
        "        name=config.experiment_name,\n",
        "        config=dict(config.__dict__)\n",
        "    )\n",
        "]"
      ],
      "execution_count": null,
      "outputs": []
    },
    {
      "cell_type": "code",
      "metadata": {
        "id": "_9oDzs2CMjI5"
      },
      "source": [
        "Path(config.logdir).absolute().mkdir(parents=True, exist_ok=True)"
      ],
      "execution_count": null,
      "outputs": []
    },
    {
      "cell_type": "code",
      "metadata": {
        "id": "v31zoOgENZYz"
      },
      "source": [
        ""
      ],
      "execution_count": null,
      "outputs": []
    },
    {
      "cell_type": "code",
      "metadata": {
        "colab": {
          "base_uri": "https://localhost:8080/",
          "height": 1000,
          "referenced_widgets": [
            "67542afeceaf4474ab2a2095704760c5",
            "f2320748469142b69c3f1220c026dcb5",
            "5110640896a040189dcb9fe239b03fff",
            "9add98c330a04f3791b2f3053420fe71",
            "6241c88fe6b846a49d7d7f8dd43b1fcb",
            "0bbfd9396919439385e00617b035fa24",
            "8be4f6073d524b838b0603fe49f30393",
            "80c3606839474a049bb0efc7ea535bae"
          ]
        },
        "id": "6SzZTsvOMjI5",
        "outputId": "e70ef194-df4a-4307-d37d-0bfab4f6891b"
      },
      "source": [
        "runner = dl.SupervisedRunner(device=torch.device(\"cuda\"))\n",
        "runner.train(\n",
        "    model=teacher,\n",
        "    criterion=criterion,\n",
        "    optimizer=optimizer,\n",
        "    scheduler=scheduler,\n",
        "    loaders=loaders,\n",
        "    callbacks=callbacks,\n",
        "    num_epochs=config.num_epochs,\n",
        "    verbose=True,\n",
        "    logdir=config.logdir\n",
        ")"
      ],
      "execution_count": null,
      "outputs": [
        {
          "output_type": "stream",
          "text": [
            "\u001b[34m\u001b[1mwandb\u001b[0m: Currently logged in as: \u001b[33mdimaorekhov\u001b[0m (use `wandb login --relogin` to force relogin)\n"
          ],
          "name": "stderr"
        },
        {
          "output_type": "display_data",
          "data": {
            "text/html": [
              "\n",
              "                Tracking run with wandb version 0.10.11<br/>\n",
              "                Syncing run <strong style=\"color:#cdcd00\">finetune-vgg-on-cifar-10</strong> to <a href=\"https://wandb.ai\" target=\"_blank\">Weights & Biases</a> <a href=\"https://docs.wandb.com/integrations/jupyter.html\" target=\"_blank\">(Documentation)</a>.<br/>\n",
              "                Project page: <a href=\"https://wandb.ai/dimaorekhov/dl-course\" target=\"_blank\">https://wandb.ai/dimaorekhov/dl-course</a><br/>\n",
              "                Run page: <a href=\"https://wandb.ai/dimaorekhov/dl-course/runs/3l3g06ne\" target=\"_blank\">https://wandb.ai/dimaorekhov/dl-course/runs/3l3g06ne</a><br/>\n",
              "                Run data is saved locally in <code>drive/MyDrive/logdir_tune/wandb/run-20201130_105156-3l3g06ne</code><br/><br/>\n",
              "            "
            ],
            "text/plain": [
              "<IPython.core.display.HTML object>"
            ]
          },
          "metadata": {
            "tags": []
          }
        },
        {
          "output_type": "stream",
          "text": [
            "1/25 * Epoch (train):   0% 2/1563 [00:00<04:33,  5.71it/s, accuracy01=0.094, accuracy03=0.438, accuracy05=0.625, loss=2.299, lr=4.000e-06, momentum=0.950]"
          ],
          "name": "stdout"
        },
        {
          "output_type": "stream",
          "text": [
            "/usr/local/lib/python3.6/dist-packages/torch/optim/lr_scheduler.py:1241: UserWarning:\n",
            "\n",
            "To get the last learning rate computed by the scheduler, please use `get_last_lr()`.\n",
            "\n"
          ],
          "name": "stderr"
        },
        {
          "output_type": "stream",
          "text": [
            "1/25 * Epoch (train): 100% 1563/1563 [03:19<00:00,  7.82it/s, accuracy01=0.875, accuracy03=1.000, accuracy05=1.000, loss=0.365, lr=8.151e-06, momentum=0.946]\n",
            "1/25 * Epoch (valid): 100% 313/313 [00:28<00:00, 11.02it/s, accuracy01=0.938, accuracy03=1.000, accuracy05=1.000, loss=0.390]\n",
            "[2020-11-30 10:55:46,143] \n",
            "1/25 * Epoch 1 (_base): lr=8.151e-06 | momentum=0.9457\n",
            "1/25 * Epoch 1 (train): accuracy01=0.6608 | accuracy03=0.8787 | accuracy05=0.9438 | loss=1.1048 | lr=5.392e-06 | momentum=0.9485\n",
            "1/25 * Epoch 1 (valid): accuracy01=0.8515 | accuracy03=0.9747 | accuracy05=0.9944 | loss=0.4889\n",
            "2/25 * Epoch (train): 100% 1563/1563 [03:19<00:00,  7.82it/s, accuracy01=0.750, accuracy03=1.000, accuracy05=1.000, loss=0.534, lr=1.988e-05, momentum=0.933]\n",
            "2/25 * Epoch (valid): 100% 313/313 [00:28<00:00, 11.05it/s, accuracy01=1.000, accuracy03=1.000, accuracy05=1.000, loss=0.092]\n",
            "[2020-11-30 10:59:39,706] \n",
            "2/25 * Epoch 2 (_base): lr=1.988e-05 | momentum=0.9335\n",
            "2/25 * Epoch 2 (train): accuracy01=0.8631 | accuracy03=0.9778 | accuracy05=0.9953 | loss=0.4323 | lr=1.345e-05 | momentum=0.9402\n",
            "2/25 * Epoch 2 (valid): accuracy01=0.9150 | accuracy03=0.9911 | accuracy05=0.9979 | loss=0.2673\n",
            "3/25 * Epoch (train): 100% 1563/1563 [03:19<00:00,  7.82it/s, accuracy01=0.875, accuracy03=0.938, accuracy05=1.000, loss=0.471, lr=3.717e-05, momentum=0.915]\n",
            "3/25 * Epoch (valid): 100% 313/313 [00:28<00:00, 11.06it/s, accuracy01=1.000, accuracy03=1.000, accuracy05=1.000, loss=0.061]\n",
            "[2020-11-30 11:03:30,387] \n",
            "3/25 * Epoch 3 (_base): lr=3.717e-05 | momentum=0.9154\n",
            "3/25 * Epoch 3 (train): accuracy01=0.9067 | accuracy03=0.9878 | accuracy05=0.9976 | loss=0.2845 | lr=2.818e-05 | momentum=0.9248\n",
            "3/25 * Epoch 3 (valid): accuracy01=0.9322 | accuracy03=0.9931 | accuracy05=0.9984 | loss=0.2040\n",
            "4/25 * Epoch (train): 100% 1563/1563 [03:19<00:00,  7.83it/s, accuracy01=0.938, accuracy03=1.000, accuracy05=1.000, loss=0.175, lr=5.702e-05, momentum=0.895]\n",
            "4/25 * Epoch (valid): 100% 313/313 [00:28<00:00, 11.08it/s, accuracy01=0.938, accuracy03=1.000, accuracy05=1.000, loss=0.123]\n",
            "[2020-11-30 11:07:21,222] \n",
            "4/25 * Epoch 4 (_base): lr=5.702e-05 | momentum=0.8948\n",
            "4/25 * Epoch 4 (train): accuracy01=0.9264 | accuracy03=0.9923 | accuracy05=0.9984 | loss=0.2192 | lr=4.703e-05 | momentum=0.9052\n",
            "4/25 * Epoch 4 (valid): accuracy01=0.9323 | accuracy03=0.9935 | accuracy05=0.9992 | loss=0.1987\n",
            "5/25 * Epoch (train): 100% 1563/1563 [03:21<00:00,  7.76it/s, accuracy01=0.875, accuracy03=1.000, accuracy05=1.000, loss=0.405, lr=7.601e-05, momentum=0.875]\n",
            "5/25 * Epoch (valid): 100% 313/313 [00:29<00:00, 10.61it/s, accuracy01=0.938, accuracy03=1.000, accuracy05=1.000, loss=0.071]\n",
            "[2020-11-30 11:11:17,043] \n",
            "5/25 * Epoch 5 (_base): lr=7.601e-05 | momentum=0.8750\n",
            "5/25 * Epoch 5 (train): accuracy01=0.9383 | accuracy03=0.9941 | accuracy05=0.9988 | loss=0.1835 | lr=6.673e-05 | momentum=0.8847\n",
            "5/25 * Epoch 5 (valid): accuracy01=0.9359 | accuracy03=0.9946 | accuracy05=0.9991 | loss=0.1842\n",
            "6/25 * Epoch (train): 100% 1563/1563 [03:26<00:00,  7.58it/s, accuracy01=0.875, accuracy03=1.000, accuracy05=1.000, loss=0.314, lr=9.084e-05, momentum=0.860]\n",
            "6/25 * Epoch (valid): 100% 313/313 [00:29<00:00, 10.69it/s, accuracy01=0.938, accuracy03=1.000, accuracy05=1.000, loss=0.151]\n",
            "[2020-11-30 11:15:15,069] \n",
            "6/25 * Epoch 6 (_base): lr=9.084e-05 | momentum=0.8595\n",
            "6/25 * Epoch 6 (train): accuracy01=0.9427 | accuracy03=0.9950 | accuracy05=0.9993 | loss=0.1680 | lr=8.389e-05 | momentum=0.8668\n",
            "6/25 * Epoch 6 (valid): accuracy01=0.9375 | accuracy03=0.9938 | accuracy05=0.9989 | loss=0.1857\n",
            "7/25 * Epoch (train): 100% 1563/1563 [03:26<00:00,  7.57it/s, accuracy01=0.875, accuracy03=1.000, accuracy05=1.000, loss=0.408, lr=9.895e-05, momentum=0.851]\n",
            "7/25 * Epoch (valid): 100% 313/313 [00:29<00:00, 10.73it/s, accuracy01=0.938, accuracy03=1.000, accuracy05=1.000, loss=0.170]\n",
            "[2020-11-30 11:19:12,685] \n",
            "7/25 * Epoch 7 (_base): lr=9.895e-05 | momentum=0.8511\n",
            "7/25 * Epoch 7 (train): accuracy01=0.9484 | accuracy03=0.9959 | accuracy05=0.9995 | loss=0.1478 | lr=9.554e-05 | momentum=0.8546\n",
            "7/25 * Epoch 7 (valid): accuracy01=0.9345 | accuracy03=0.9930 | accuracy05=0.9985 | loss=0.2001\n",
            "8/25 * Epoch (train): 100% 1563/1563 [03:24<00:00,  7.65it/s, accuracy01=1.000, accuracy03=1.000, accuracy05=1.000, loss=0.019, lr=9.980e-05, momentum=0.850]\n",
            "8/25 * Epoch (valid): 100% 313/313 [00:28<00:00, 10.80it/s, accuracy01=1.000, accuracy03=1.000, accuracy05=1.000, loss=0.020]\n",
            "[2020-11-30 11:23:07,741] \n",
            "8/25 * Epoch 8 (_base): lr=9.980e-05 | momentum=0.8502\n",
            "8/25 * Epoch 8 (train): accuracy01=0.9533 | accuracy03=0.9960 | accuracy05=0.9993 | loss=0.1359 | lr=9.979e-05 | momentum=0.8502\n",
            "8/25 * Epoch 8 (valid): accuracy01=0.9369 | accuracy03=0.9942 | accuracy05=0.9984 | loss=0.1924\n",
            "Early stop at 8 epoch\n"
          ],
          "name": "stdout"
        },
        {
          "output_type": "display_data",
          "data": {
            "text/html": [
              "<br/>Waiting for W&B process to finish, PID 1298<br/>Program ended successfully."
            ],
            "text/plain": [
              "<IPython.core.display.HTML object>"
            ]
          },
          "metadata": {
            "tags": []
          }
        },
        {
          "output_type": "display_data",
          "data": {
            "application/vnd.jupyter.widget-view+json": {
              "model_id": "67542afeceaf4474ab2a2095704760c5",
              "version_minor": 0,
              "version_major": 2
            },
            "text/plain": [
              "VBox(children=(Label(value=' 0.01MB of 0.01MB uploaded (0.00MB deduped)\\r'), FloatProgress(value=1.0, max=1.0)…"
            ]
          },
          "metadata": {
            "tags": []
          }
        },
        {
          "output_type": "display_data",
          "data": {
            "text/html": [
              "Find user logs for this run at: <code>drive/MyDrive/logdir_tune/wandb/run-20201130_105156-3l3g06ne/logs/debug.log</code>"
            ],
            "text/plain": [
              "<IPython.core.display.HTML object>"
            ]
          },
          "metadata": {
            "tags": []
          }
        },
        {
          "output_type": "display_data",
          "data": {
            "text/html": [
              "Find internal logs for this run at: <code>drive/MyDrive/logdir_tune/wandb/run-20201130_105156-3l3g06ne/logs/debug-internal.log</code>"
            ],
            "text/plain": [
              "<IPython.core.display.HTML object>"
            ]
          },
          "metadata": {
            "tags": []
          }
        },
        {
          "output_type": "display_data",
          "data": {
            "text/html": [
              "<h3>Run summary:</h3><br/><style>\n",
              "    table.wandb td:nth-child(1) { padding: 0 10px; text-align: right }\n",
              "    </style><table class=\"wandb\">\n",
              "<tr><td>accuracy01/train</td><td>0.95326</td></tr><tr><td>accuracy03/train</td><td>0.99602</td></tr><tr><td>accuracy05/train</td><td>0.99934</td></tr><tr><td>loss/train</td><td>0.13594</td></tr><tr><td>lr/train</td><td>0.0001</td></tr><tr><td>momentum/train</td><td>0.85022</td></tr><tr><td>accuracy01/valid</td><td>0.9369</td></tr><tr><td>accuracy03/valid</td><td>0.9942</td></tr><tr><td>accuracy05/valid</td><td>0.9984</td></tr><tr><td>loss/valid</td><td>0.19245</td></tr><tr><td>lr/_base</td><td>0.0001</td></tr><tr><td>momentum/_base</td><td>0.8502</td></tr><tr><td>_step</td><td>8</td></tr><tr><td>_runtime</td><td>1871</td></tr><tr><td>_timestamp</td><td>1606735387</td></tr></table>"
            ],
            "text/plain": [
              "<IPython.core.display.HTML object>"
            ]
          },
          "metadata": {
            "tags": []
          }
        },
        {
          "output_type": "display_data",
          "data": {
            "text/html": [
              "<h3>Run history:</h3><br/><style>\n",
              "    table.wandb td:nth-child(1) { padding: 0 10px; text-align: right }\n",
              "    </style><table class=\"wandb\">\n",
              "<tr><td>accuracy01/train</td><td>▁▆▇▇████</td></tr><tr><td>accuracy03/train</td><td>▁▇██████</td></tr><tr><td>accuracy05/train</td><td>▁▇██████</td></tr><tr><td>loss/train</td><td>█▃▂▂▁▁▁▁</td></tr><tr><td>lr/train</td><td>▁▂▃▄▆▇██</td></tr><tr><td>momentum/train</td><td>█▇▆▅▃▂▁▁</td></tr><tr><td>accuracy01/valid</td><td>▁▆██████</td></tr><tr><td>accuracy03/valid</td><td>▁▇▇███▇█</td></tr><tr><td>accuracy05/valid</td><td>▁▆▇███▇▇</td></tr><tr><td>loss/valid</td><td>█▃▁▁▁▁▁▁</td></tr><tr><td>lr/_base</td><td>▁▂▃▅▆▇██</td></tr><tr><td>momentum/_base</td><td>█▇▆▄▃▂▁▁</td></tr><tr><td>_step</td><td>▁▂▃▄▅▆▇█</td></tr><tr><td>_runtime</td><td>▁▂▃▄▅▆▇█</td></tr><tr><td>_timestamp</td><td>▁▂▃▄▅▆▇█</td></tr></table><br/>"
            ],
            "text/plain": [
              "<IPython.core.display.HTML object>"
            ]
          },
          "metadata": {
            "tags": []
          }
        },
        {
          "output_type": "display_data",
          "data": {
            "text/html": [
              "Synced 5 W&B file(s), 1 media file(s), 0 artifact file(s) and 0 other file(s)"
            ],
            "text/plain": [
              "<IPython.core.display.HTML object>"
            ]
          },
          "metadata": {
            "tags": []
          }
        },
        {
          "output_type": "display_data",
          "data": {
            "text/html": [
              "\n",
              "                    <br/>Synced <strong style=\"color:#cdcd00\">finetune-vgg-on-cifar-10</strong>: <a href=\"https://wandb.ai/dimaorekhov/dl-course/runs/3l3g06ne\" target=\"_blank\">https://wandb.ai/dimaorekhov/dl-course/runs/3l3g06ne</a><br/>\n",
              "                "
            ],
            "text/plain": [
              "<IPython.core.display.HTML object>"
            ]
          },
          "metadata": {
            "tags": []
          }
        },
        {
          "output_type": "stream",
          "text": [
            "Top best models:\n",
            "drive/MyDrive/logdir_tune/checkpoints/train.5.pth\t0.1842\n"
          ],
          "name": "stdout"
        }
      ]
    },
    {
      "cell_type": "code",
      "metadata": {
        "id": "N7bLYqNBMjI5"
      },
      "source": [
        ""
      ],
      "execution_count": null,
      "outputs": []
    }
  ]
}