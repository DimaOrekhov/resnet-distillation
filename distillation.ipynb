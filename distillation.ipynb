{
 "cells": [
  {
   "cell_type": "code",
   "execution_count": 21,
   "metadata": {},
   "outputs": [],
   "source": [
    "import torch\n",
    "from torch import nn\n",
    "import torch.nn.functional as F\n",
    "from torch.utils.data import DataLoader\n",
    "import torchvision.models as models\n",
    "from torchvision import transforms, datasets\n",
    "from catalyst import dl\n",
    "from catalyst.contrib.callbacks import WandbLogger\n",
    "from catalyst.utils import set_global_seed\n",
    "from dataclasses import dataclass\n",
    "from tqdm.auto import tqdm\n",
    "from pathlib import Path\n",
    "\n",
    "from torchvision.models.resnet import ResNet, BasicBlock\n",
    "from typing import Dict, List"
   ]
  },
  {
   "cell_type": "code",
   "execution_count": 2,
   "metadata": {},
   "outputs": [],
   "source": [
    "class DistillationRunner(dl.Runner):\n",
    "\n",
    "    def __init__(\n",
    "        self,\n",
    "        teacher_weight: float,\n",
    "        temperature: float,\n",
    "        model = None,\n",
    "        device = None\n",
    "    ):\n",
    "        self.teacher_weight = teacher_weight\n",
    "        self.temperature = temperature\n",
    "        super().__init__(model=model, device=device)\n",
    "\n",
    "    def _handle_batch(self, batch):\n",
    "        features, labels = batch\n",
    "\n",
    "        teacher = self.model['teacher']\n",
    "        student = self.model['student']\n",
    "\n",
    "        with torch.no_grad():\n",
    "            teacher.eval()\n",
    "            teacher_logits = teacher(features)\n",
    "\n",
    "        student_logits = student(features)\n",
    "\n",
    "        teacher_loss = prob_cross_entropy(\n",
    "            out=student_logits / self.temperature,\n",
    "            target=teacher_logits / self.temperature\n",
    "        )\n",
    "        scale = self.temperature ** 2\n",
    "        ce_loss = F.cross_entropy(\n",
    "            student_logits, labels\n",
    "        )\n",
    "        total_loss = (\n",
    "            (1 - self.teacher_weight) * ce_loss\n",
    "            + self.teacher_weight * scale * teacher_loss\n",
    "        )\n",
    "\n",
    "        self.batch_metrics.update({\n",
    "            'teacher_loss': teacher_loss,\n",
    "            'ce_loss': ce_loss,\n",
    "            'loss': total_loss\n",
    "        })\n",
    "\n",
    "\n",
    "def prob_cross_entropy(out, target):\n",
    "    out_log_probs = F.log_softmax(out, dim=-1)\n",
    "    target_probs = F.softmax(target, dim=-1)\n",
    "    return torch.mean(-1 * torch.sum(target_probs * out_log_probs, dim=-1))\n"
   ]
  },
  {
   "cell_type": "code",
   "execution_count": 26,
   "metadata": {},
   "outputs": [],
   "source": [
    "@dataclass\n",
    "class Config:\n",
    "\n",
    "    experiment_name: str = \"distill-tuned-teacher\"\n",
    "\n",
    "    flip_prob: float = 0.5\n",
    "    rotation_degrees: float = 15\n",
    "\n",
    "    logdir: str = 'logdir_tune'\n",
    "        \n",
    "    teacher_checkpoint: str = None\n",
    "\n",
    "    student_layers: str = \"[2, 2]\"\n",
    "    student_to_teacher_layers_map: str = \"\"\"{\n",
    "        'layer1': 'layer2',\n",
    "        'layer2': 'layer4'\n",
    "    }\"\"\"\n",
    "\n",
    "    teacher_weight: float = 0.85\n",
    "    temperature: float = 1.5\n",
    "\n",
    "    max_lr: float = 5e-5\n",
    "    weight_decay: float = 1e-5\n",
    "\n",
    "    num_epochs: int = 10\n",
    "    batch_size: int = 32\n",
    "    patience: int = 2\n",
    "\n",
    "    seed: int = 21\n",
    "\n",
    "\n",
    "    def to_dict(self):\n",
    "        as_dict = {}\n",
    "        for key, val in self.__dict__.items():\n",
    "            if key in [\"student_layers\", \"student_to_teacher_layers_map\"]:\n",
    "                val = eval(val)\n",
    "            as_dict[key] = val\n",
    "        return as_dict\n",
    "\n",
    "\n",
    "config = Config()\n",
    "assert len(eval(config.student_layers)) == len(eval(config.student_to_teacher_layers_map))\n",
    "set_global_seed(config.seed)"
   ]
  },
  {
   "cell_type": "code",
   "execution_count": 27,
   "metadata": {},
   "outputs": [
    {
     "data": {
      "text/plain": [
       "{'experiment_name': 'finetune-vgg-on-cifar-10',\n",
       " 'flip_prob': 0.5,\n",
       " 'rotation_degrees': 15,\n",
       " 'logdir': 'logdir_tune',\n",
       " 'teacher_checkpoint': None,\n",
       " 'student_layers': [2, 2],\n",
       " 'student_to_teacher_layers_map': {'layer1': 'layer2', 'layer2': 'layer4'},\n",
       " 'teacher_weight': 0.85,\n",
       " 'temperature': 1.5,\n",
       " 'max_lr': 5e-05,\n",
       " 'weight_decay': 1e-05,\n",
       " 'num_epochs': 10,\n",
       " 'batch_size': 32,\n",
       " 'patience': 2,\n",
       " 'seed': 21}"
      ]
     },
     "execution_count": 27,
     "metadata": {},
     "output_type": "execute_result"
    }
   ],
   "source": [
    "config.to_dict()"
   ]
  },
  {
   "cell_type": "code",
   "execution_count": 18,
   "metadata": {},
   "outputs": [],
   "source": [
    "normalize = transforms.Normalize(\n",
    "    mean=[0.485, 0.456, 0.406],\n",
    "    std=[0.229, 0.224, 0.225]\n",
    ")\n",
    "\n",
    "train_transforms = transforms.Compose([\n",
    "    transforms.RandomHorizontalFlip(config.flip_prob),\n",
    "    transforms.RandomRotation(config.rotation_degrees),\n",
    "    transforms.ToTensor(),\n",
    "    normalize\n",
    "])\n",
    "\n",
    "test_transforms = transforms.Compose([\n",
    "    transforms.ToTensor(),\n",
    "    normalize\n",
    "])"
   ]
  },
  {
   "cell_type": "markdown",
   "metadata": {},
   "source": [
    "I will be first finetuning teacher on CIFAR10, since all pretrained torchvision models are for ImageNet.\n",
    "\n",
    "And the ImageNet itself is too large to handle with computational resources I have."
   ]
  },
  {
   "cell_type": "code",
   "execution_count": 6,
   "metadata": {},
   "outputs": [
    {
     "name": "stdout",
     "output_type": "stream",
     "text": [
      "Downloading https://www.cs.toronto.edu/~kriz/cifar-10-python.tar.gz to data/cifar-10-python.tar.gz\n"
     ]
    },
    {
     "data": {
      "application/vnd.jupyter.widget-view+json": {
       "model_id": "e616ae84210c4ecc99fb672735291c53",
       "version_major": 2,
       "version_minor": 0
      },
      "text/plain": [
       "HBox(children=(HTML(value=''), FloatProgress(value=1.0, bar_style='info', layout=Layout(width='20px'), max=1.0…"
      ]
     },
     "metadata": {},
     "output_type": "display_data"
    },
    {
     "name": "stdout",
     "output_type": "stream",
     "text": [
      "Extracting data/cifar-10-python.tar.gz to data\n",
      "Files already downloaded and verified\n",
      "50000\n",
      "10000\n"
     ]
    }
   ],
   "source": [
    "train = datasets.CIFAR10('data', train=True, download=True, transform=train_transforms)\n",
    "test = datasets.CIFAR10('data', train=False, download=True, transform=test_transforms)\n",
    "print(len(train))\n",
    "print(len(test))\n",
    "\n",
    "\n",
    "N_CLASSES = 10"
   ]
  },
  {
   "cell_type": "code",
   "execution_count": 7,
   "metadata": {},
   "outputs": [
    {
     "name": "stdout",
     "output_type": "stream",
     "text": [
      "\n"
     ]
    }
   ],
   "source": [
    "teacher = models.resnet18()"
   ]
  },
  {
   "cell_type": "code",
   "execution_count": 7,
   "metadata": {},
   "outputs": [],
   "source": [
    "def freeze_module(module: nn.Module):\n",
    "    for param in module.parameters():\n",
    "        param.requires_grad = False\n",
    "\n",
    "\n",
    "def unfreeze_module(module: nn.Module):\n",
    "    for param in module.parameters():\n",
    "        param.requires_grad = True\n",
    "\n",
    "\n",
    "teacher.fc = nn.Linear(512, N_CLASSES)\n",
    "checkpoint = torch.load(\n",
    "    config.teacher_checkpoint, map_location=torch.device(\"cpu\")\n",
    ")\n",
    "teacher.load_state_dict(checkpoint['model_state_dict'])\n",
    "teacher.eval()"
   ]
  },
  {
   "cell_type": "code",
   "execution_count": 11,
   "metadata": {},
   "outputs": [
    {
     "data": {
      "text/plain": [
       "[2, 2]"
      ]
     },
     "execution_count": 11,
     "metadata": {},
     "output_type": "execute_result"
    }
   ],
   "source": [
    "eval(config.student_layers)"
   ]
  },
  {
   "cell_type": "code",
   "execution_count": null,
   "metadata": {},
   "outputs": [],
   "source": [
    "student = ResNet(\n",
    "    block=BasicBlock,\n",
    "    layers=eval(config.student_layers),\n",
    "    num_classes=N_CLASSES\n",
    ")\n",
    "\n"
   ]
  },
  {
   "cell_type": "code",
   "execution_count": 8,
   "metadata": {},
   "outputs": [],
   "source": [
    "model = {\n",
    "    'teacher': teacher,\n",
    "    'student': student\n",
    "}\n",
    "\n",
    "loaders = {\n",
    "    'train': DataLoader(train, batch_size=config.batch_size, shuffle=True),\n",
    "    'valid': DataLoader(test, batch_size=config.batch_size)\n",
    "}\n",
    "\n",
    "criterion = nn.CrossEntropyLoss()\n",
    "optimizer = torch.optim.Adam(teacher.parameters(), weight_decay=config.weight_decay)\n",
    "scheduler = torch.optim.lr_scheduler.OneCycleLR(\n",
    "    optimizer,\n",
    "    max_lr=config.max_lr,\n",
    "    epochs=config.num_epochs,\n",
    "    steps_per_epoch=len(loaders['train'])\n",
    ")\n",
    "\n",
    "callbacks = [\n",
    "    dl.OptimizerCallback(metric_key='loss'),\n",
    "    dl.SchedulerCallback(mode='batch'),\n",
    "    dl.EarlyStoppingCallback(config.patience),\n",
    "    dl.AccuracyCallback(topk_args=[1, 3, 5], num_classes=N_CLASSES),\n",
    "    WandbLogger(\n",
    "        project='dl-course',\n",
    "        entity='dimaorekhov',\n",
    "        group='distillation',\n",
    "        name=config.experiment_name,\n",
    "        config=dict(config.__dict__)\n",
    "    )\n",
    "]"
   ]
  },
  {
   "cell_type": "code",
   "execution_count": 9,
   "metadata": {},
   "outputs": [],
   "source": [
    "Path(config.logdir).mkdir(exist_ok=True)"
   ]
  },
  {
   "cell_type": "code",
   "execution_count": 10,
   "metadata": {},
   "outputs": [
    {
     "name": "stderr",
     "output_type": "stream",
     "text": [
      "\u001b[34m\u001b[1mwandb\u001b[0m: Currently logged in as: \u001b[33mdimaorekhov\u001b[0m (use `wandb login --relogin` to force relogin)\n"
     ]
    },
    {
     "data": {
      "text/html": [
       "\n",
       "                Tracking run with wandb version 0.10.11<br/>\n",
       "                Syncing run <strong style=\"color:#cdcd00\">finetune-vgg-on-cifar-10</strong> to <a href=\"https://wandb.ai\" target=\"_blank\">Weights & Biases</a> <a href=\"https://docs.wandb.com/integrations/jupyter.html\" target=\"_blank\">(Documentation)</a>.<br/>\n",
       "                Project page: <a href=\"https://wandb.ai/dimaorekhov/dl-course\" target=\"_blank\">https://wandb.ai/dimaorekhov/dl-course</a><br/>\n",
       "                Run page: <a href=\"https://wandb.ai/dimaorekhov/dl-course/runs/2zovvwdx\" target=\"_blank\">https://wandb.ai/dimaorekhov/dl-course/runs/2zovvwdx</a><br/>\n",
       "                Run data is saved locally in <code>logdir_tune/wandb/run-20201130_013639-2zovvwdx</code><br/><br/>\n",
       "            "
      ],
      "text/plain": [
       "<IPython.core.display.HTML object>"
      ]
     },
     "metadata": {},
     "output_type": "display_data"
    },
    {
     "name": "stdout",
     "output_type": "stream",
     "text": [
      "1/10 * Epoch (train):   0% 4/1563 [00:01<09:45,  2.66it/s, accuracy01=0.125, accuracy03=0.281, accuracy05=0.594, loss=2.434]\n",
      "1/10 * Epoch (valid):   1% 4/313 [00:00<00:20, 15.15it/s, accuracy01=0.094, accuracy03=0.375, accuracy05=0.562, loss=2.406]\n",
      "[2020-11-30 01:36:42,850] \n",
      "1/10 * Epoch 1 (_base): lr=2.000e-06 | momentum=0.9500\n",
      "1/10 * Epoch 1 (train): accuracy01=0.1484 | accuracy03=0.3359 | accuracy05=0.5156 | loss=2.5009\n",
      "1/10 * Epoch 1 (valid): accuracy01=0.1250 | accuracy03=0.4141 | accuracy05=0.6016 | loss=2.3263\n"
     ]
    },
    {
     "name": "stderr",
     "output_type": "stream",
     "text": [
      "/Users/Dmitrii.Orekhov/anaconda3/envs/ml/lib/python3.8/site-packages/torch/optim/lr_scheduler.py:1205: UserWarning:\n",
      "\n",
      "To get the last learning rate computed by the scheduler, please use `get_last_lr()`.\n",
      "\n"
     ]
    },
    {
     "name": "stdout",
     "output_type": "stream",
     "text": [
      "2/10 * Epoch (train):   0% 4/1563 [00:01<08:05,  3.21it/s, accuracy01=0.062, accuracy03=0.500, accuracy05=0.625, loss=2.531]\n",
      "2/10 * Epoch (valid):   1% 4/313 [00:00<00:20, 14.94it/s, accuracy01=0.156, accuracy03=0.406, accuracy05=0.531, loss=2.430]\n",
      "[2020-11-30 01:36:44,651] \n",
      "2/10 * Epoch 2 (_base): lr=2.000e-06 | momentum=0.9500\n",
      "2/10 * Epoch 2 (train): accuracy01=0.1094 | accuracy03=0.3906 | accuracy05=0.5234 | loss=2.4674\n",
      "2/10 * Epoch 2 (valid): accuracy01=0.1172 | accuracy03=0.4062 | accuracy05=0.5781 | loss=2.3539\n"
     ]
    },
    {
     "data": {
      "text/html": [
       "<br/>Waiting for W&B process to finish, PID 19894<br/>Program ended successfully."
      ],
      "text/plain": [
       "<IPython.core.display.HTML object>"
      ]
     },
     "metadata": {},
     "output_type": "display_data"
    },
    {
     "data": {
      "application/vnd.jupyter.widget-view+json": {
       "model_id": "",
       "version_major": 2,
       "version_minor": 0
      },
      "text/plain": [
       "VBox(children=(Label(value=' 0.01MB of 0.01MB uploaded (0.00MB deduped)\\r'), FloatProgress(value=1.0, max=1.0)…"
      ]
     },
     "metadata": {},
     "output_type": "display_data"
    },
    {
     "data": {
      "text/html": [
       "Find user logs for this run at: <code>logdir_tune/wandb/run-20201130_013639-2zovvwdx/logs/debug.log</code>"
      ],
      "text/plain": [
       "<IPython.core.display.HTML object>"
      ]
     },
     "metadata": {},
     "output_type": "display_data"
    },
    {
     "data": {
      "text/html": [
       "Find internal logs for this run at: <code>logdir_tune/wandb/run-20201130_013639-2zovvwdx/logs/debug-internal.log</code>"
      ],
      "text/plain": [
       "<IPython.core.display.HTML object>"
      ]
     },
     "metadata": {},
     "output_type": "display_data"
    },
    {
     "data": {
      "text/html": [
       "<h3>Run summary:</h3><br/><style>\n",
       "    table.wandb td:nth-child(1) { padding: 0 10px; text-align: right }\n",
       "    </style><table class=\"wandb\">\n",
       "<tr><td>accuracy01/train</td><td>0.10938</td></tr><tr><td>accuracy03/train</td><td>0.39062</td></tr><tr><td>accuracy05/train</td><td>0.52344</td></tr><tr><td>loss/train</td><td>2.46739</td></tr><tr><td>accuracy01/valid</td><td>0.11719</td></tr><tr><td>accuracy03/valid</td><td>0.40625</td></tr><tr><td>accuracy05/valid</td><td>0.57812</td></tr><tr><td>loss/valid</td><td>2.35387</td></tr><tr><td>lr/_base</td><td>0.0</td></tr><tr><td>momentum/_base</td><td>0.95</td></tr><tr><td>_step</td><td>2</td></tr><tr><td>_runtime</td><td>5</td></tr><tr><td>_timestamp</td><td>1606689404</td></tr></table>"
      ],
      "text/plain": [
       "<IPython.core.display.HTML object>"
      ]
     },
     "metadata": {},
     "output_type": "display_data"
    },
    {
     "data": {
      "text/html": [
       "<h3>Run history:</h3><br/><style>\n",
       "    table.wandb td:nth-child(1) { padding: 0 10px; text-align: right }\n",
       "    </style><table class=\"wandb\">\n",
       "<tr><td>accuracy01/train</td><td>█▁</td></tr><tr><td>accuracy03/train</td><td>▁█</td></tr><tr><td>accuracy05/train</td><td>▁█</td></tr><tr><td>loss/train</td><td>█▁</td></tr><tr><td>accuracy01/valid</td><td>█▁</td></tr><tr><td>accuracy03/valid</td><td>█▁</td></tr><tr><td>accuracy05/valid</td><td>█▁</td></tr><tr><td>loss/valid</td><td>▁█</td></tr><tr><td>lr/_base</td><td>▁█</td></tr><tr><td>momentum/_base</td><td>█▁</td></tr><tr><td>_step</td><td>▁█</td></tr><tr><td>_runtime</td><td>▁█</td></tr><tr><td>_timestamp</td><td>▁█</td></tr></table><br/>"
      ],
      "text/plain": [
       "<IPython.core.display.HTML object>"
      ]
     },
     "metadata": {},
     "output_type": "display_data"
    },
    {
     "data": {
      "text/html": [
       "Synced 5 W&B file(s), 1 media file(s), 0 artifact file(s) and 0 other file(s)"
      ],
      "text/plain": [
       "<IPython.core.display.HTML object>"
      ]
     },
     "metadata": {},
     "output_type": "display_data"
    },
    {
     "data": {
      "text/html": [
       "\n",
       "                    <br/>Synced <strong style=\"color:#cdcd00\">finetune-vgg-on-cifar-10</strong>: <a href=\"https://wandb.ai/dimaorekhov/dl-course/runs/2zovvwdx\" target=\"_blank\">https://wandb.ai/dimaorekhov/dl-course/runs/2zovvwdx</a><br/>\n",
       "                "
      ],
      "text/plain": [
       "<IPython.core.display.HTML object>"
      ]
     },
     "metadata": {},
     "output_type": "display_data"
    },
    {
     "name": "stdout",
     "output_type": "stream",
     "text": [
      "Top best models:\n",
      "logdir_tune/checkpoints/train.1.pth\t2.3263\n"
     ]
    }
   ],
   "source": [
    "runner = DistillationRunner(\n",
    "    teacher_weight=config.teacher_weight,\n",
    "    temperature=config.temperature\n",
    ")\n",
    "\n",
    "runner.train(\n",
    "    model=teacher,\n",
    "    criterion=criterion,\n",
    "    optimizer=optimizer,\n",
    "    scheduler=scheduler,\n",
    "    loaders=loaders,\n",
    "    callbacks=callbacks,\n",
    "    num_epochs=config.num_epochs,\n",
    "    verbose=True,\n",
    "    logdir=config.to_dict,\n",
    "    check=True\n",
    ")"
   ]
  },
  {
   "cell_type": "code",
   "execution_count": null,
   "metadata": {},
   "outputs": [],
   "source": []
  }
 ],
 "metadata": {
  "kernelspec": {
   "display_name": "Python 3",
   "language": "python",
   "name": "python3"
  },
  "language_info": {
   "codemirror_mode": {
    "name": "ipython",
    "version": 3
   },
   "file_extension": ".py",
   "mimetype": "text/x-python",
   "name": "python",
   "nbconvert_exporter": "python",
   "pygments_lexer": "ipython3",
   "version": "3.8.5"
  }
 },
 "nbformat": 4,
 "nbformat_minor": 4
}
