{
  "nbformat": 4,
  "nbformat_minor": 0,
  "metadata": {
    "kernelspec": {
      "display_name": "Python 3",
      "language": "python",
      "name": "python3"
    },
    "language_info": {
      "codemirror_mode": {
        "name": "ipython",
        "version": 3
      },
      "file_extension": ".py",
      "mimetype": "text/x-python",
      "name": "python",
      "nbconvert_exporter": "python",
      "pygments_lexer": "ipython3",
      "version": "3.8.5"
    },
    "colab": {
      "name": "distillation.ipynb",
      "provenance": [],
      "collapsed_sections": []
    },
    "accelerator": "GPU"
  },
  "cells": [
    {
      "cell_type": "code",
      "metadata": {
        "colab": {
          "base_uri": "https://localhost:8080/"
        },
        "id": "OBJk9MJXqsRP",
        "outputId": "a93490b4-7fe1-4ded-c633-453a44913130"
      },
      "source": [
        "from google.colab import drive\n",
        "drive.mount('/content/drive')"
      ],
      "execution_count": 1,
      "outputs": [
        {
          "output_type": "stream",
          "text": [
            "Drive already mounted at /content/drive; to attempt to forcibly remount, call drive.mount(\"/content/drive\", force_remount=True).\n"
          ],
          "name": "stdout"
        }
      ]
    },
    {
      "cell_type": "code",
      "metadata": {
        "colab": {
          "base_uri": "https://localhost:8080/"
        },
        "id": "CF8u__xcquq3",
        "outputId": "41596743-d04e-4d3d-bffa-66f603a09946"
      },
      "source": [
        "!pip install wandb\n",
        "!pip install catalyst"
      ],
      "execution_count": 2,
      "outputs": [
        {
          "output_type": "stream",
          "text": [
            "Requirement already satisfied: wandb in /usr/local/lib/python3.6/dist-packages (0.10.11)\n",
            "Requirement already satisfied: six>=1.13.0 in /usr/local/lib/python3.6/dist-packages (from wandb) (1.15.0)\n",
            "Requirement already satisfied: GitPython>=1.0.0 in /usr/local/lib/python3.6/dist-packages (from wandb) (3.1.11)\n",
            "Requirement already satisfied: sentry-sdk>=0.4.0 in /usr/local/lib/python3.6/dist-packages (from wandb) (0.19.4)\n",
            "Requirement already satisfied: watchdog>=0.8.3 in /usr/local/lib/python3.6/dist-packages (from wandb) (0.10.4)\n",
            "Requirement already satisfied: psutil>=5.0.0 in /usr/local/lib/python3.6/dist-packages (from wandb) (5.4.8)\n",
            "Requirement already satisfied: shortuuid>=0.5.0 in /usr/local/lib/python3.6/dist-packages (from wandb) (1.0.1)\n",
            "Requirement already satisfied: PyYAML in /usr/local/lib/python3.6/dist-packages (from wandb) (3.13)\n",
            "Requirement already satisfied: python-dateutil>=2.6.1 in /usr/local/lib/python3.6/dist-packages (from wandb) (2.8.1)\n",
            "Requirement already satisfied: docker-pycreds>=0.4.0 in /usr/local/lib/python3.6/dist-packages (from wandb) (0.4.0)\n",
            "Requirement already satisfied: Click>=7.0 in /usr/local/lib/python3.6/dist-packages (from wandb) (7.1.2)\n",
            "Requirement already satisfied: protobuf>=3.12.0 in /usr/local/lib/python3.6/dist-packages (from wandb) (3.12.4)\n",
            "Requirement already satisfied: requests<3,>=2.0.0 in /usr/local/lib/python3.6/dist-packages (from wandb) (2.23.0)\n",
            "Requirement already satisfied: configparser>=3.8.1 in /usr/local/lib/python3.6/dist-packages (from wandb) (5.0.1)\n",
            "Requirement already satisfied: subprocess32>=3.5.3 in /usr/local/lib/python3.6/dist-packages (from wandb) (3.5.4)\n",
            "Requirement already satisfied: promise<3,>=2.0 in /usr/local/lib/python3.6/dist-packages (from wandb) (2.3)\n",
            "Requirement already satisfied: gitdb<5,>=4.0.1 in /usr/local/lib/python3.6/dist-packages (from GitPython>=1.0.0->wandb) (4.0.5)\n",
            "Requirement already satisfied: urllib3>=1.10.0 in /usr/local/lib/python3.6/dist-packages (from sentry-sdk>=0.4.0->wandb) (1.24.3)\n",
            "Requirement already satisfied: certifi in /usr/local/lib/python3.6/dist-packages (from sentry-sdk>=0.4.0->wandb) (2020.11.8)\n",
            "Requirement already satisfied: pathtools>=0.1.1 in /usr/local/lib/python3.6/dist-packages (from watchdog>=0.8.3->wandb) (0.1.2)\n",
            "Requirement already satisfied: setuptools in /usr/local/lib/python3.6/dist-packages (from protobuf>=3.12.0->wandb) (50.3.2)\n",
            "Requirement already satisfied: chardet<4,>=3.0.2 in /usr/local/lib/python3.6/dist-packages (from requests<3,>=2.0.0->wandb) (3.0.4)\n",
            "Requirement already satisfied: idna<3,>=2.5 in /usr/local/lib/python3.6/dist-packages (from requests<3,>=2.0.0->wandb) (2.10)\n",
            "Requirement already satisfied: smmap<4,>=3.0.1 in /usr/local/lib/python3.6/dist-packages (from gitdb<5,>=4.0.1->GitPython>=1.0.0->wandb) (3.0.4)\n",
            "Requirement already satisfied: catalyst in /usr/local/lib/python3.6/dist-packages (20.11)\n",
            "Requirement already satisfied: PyYAML in /usr/local/lib/python3.6/dist-packages (from catalyst) (3.13)\n",
            "Requirement already satisfied: tensorboardX in /usr/local/lib/python3.6/dist-packages (from catalyst) (2.1)\n",
            "Requirement already satisfied: plotly>=4.1.0 in /usr/local/lib/python3.6/dist-packages (from catalyst) (4.4.1)\n",
            "Requirement already satisfied: numpy>=1.16.4 in /usr/local/lib/python3.6/dist-packages (from catalyst) (1.18.5)\n",
            "Requirement already satisfied: scikit-learn>=0.20 in /usr/local/lib/python3.6/dist-packages (from catalyst) (0.22.2.post1)\n",
            "Requirement already satisfied: ipython in /usr/local/lib/python3.6/dist-packages (from catalyst) (5.5.0)\n",
            "Requirement already satisfied: GitPython>=3.1.1 in /usr/local/lib/python3.6/dist-packages (from catalyst) (3.1.11)\n",
            "Requirement already satisfied: matplotlib in /usr/local/lib/python3.6/dist-packages (from catalyst) (3.2.2)\n",
            "Requirement already satisfied: deprecation in /usr/local/lib/python3.6/dist-packages (from catalyst) (2.1.0)\n",
            "Requirement already satisfied: pandas>=0.22 in /usr/local/lib/python3.6/dist-packages (from catalyst) (1.1.4)\n",
            "Requirement already satisfied: torch>=1.1.0 in /usr/local/lib/python3.6/dist-packages (from catalyst) (1.7.0+cu101)\n",
            "Requirement already satisfied: packaging in /usr/local/lib/python3.6/dist-packages (from catalyst) (20.4)\n",
            "Requirement already satisfied: tensorboard>=1.14.0 in /usr/local/lib/python3.6/dist-packages (from catalyst) (2.3.0)\n",
            "Requirement already satisfied: tqdm>=4.33.0 in /usr/local/lib/python3.6/dist-packages (from catalyst) (4.41.1)\n",
            "Requirement already satisfied: six in /usr/local/lib/python3.6/dist-packages (from tensorboardX->catalyst) (1.15.0)\n",
            "Requirement already satisfied: protobuf>=3.8.0 in /usr/local/lib/python3.6/dist-packages (from tensorboardX->catalyst) (3.12.4)\n",
            "Requirement already satisfied: retrying>=1.3.3 in /usr/local/lib/python3.6/dist-packages (from plotly>=4.1.0->catalyst) (1.3.3)\n",
            "Requirement already satisfied: scipy>=0.17.0 in /usr/local/lib/python3.6/dist-packages (from scikit-learn>=0.20->catalyst) (1.4.1)\n",
            "Requirement already satisfied: joblib>=0.11 in /usr/local/lib/python3.6/dist-packages (from scikit-learn>=0.20->catalyst) (0.17.0)\n",
            "Requirement already satisfied: setuptools>=18.5 in /usr/local/lib/python3.6/dist-packages (from ipython->catalyst) (50.3.2)\n",
            "Requirement already satisfied: pexpect; sys_platform != \"win32\" in /usr/local/lib/python3.6/dist-packages (from ipython->catalyst) (4.8.0)\n",
            "Requirement already satisfied: prompt-toolkit<2.0.0,>=1.0.4 in /usr/local/lib/python3.6/dist-packages (from ipython->catalyst) (1.0.18)\n",
            "Requirement already satisfied: pickleshare in /usr/local/lib/python3.6/dist-packages (from ipython->catalyst) (0.7.5)\n",
            "Requirement already satisfied: simplegeneric>0.8 in /usr/local/lib/python3.6/dist-packages (from ipython->catalyst) (0.8.1)\n",
            "Requirement already satisfied: pygments in /usr/local/lib/python3.6/dist-packages (from ipython->catalyst) (2.6.1)\n",
            "Requirement already satisfied: traitlets>=4.2 in /usr/local/lib/python3.6/dist-packages (from ipython->catalyst) (4.3.3)\n",
            "Requirement already satisfied: decorator in /usr/local/lib/python3.6/dist-packages (from ipython->catalyst) (4.4.2)\n",
            "Requirement already satisfied: gitdb<5,>=4.0.1 in /usr/local/lib/python3.6/dist-packages (from GitPython>=3.1.1->catalyst) (4.0.5)\n",
            "Requirement already satisfied: cycler>=0.10 in /usr/local/lib/python3.6/dist-packages (from matplotlib->catalyst) (0.10.0)\n",
            "Requirement already satisfied: kiwisolver>=1.0.1 in /usr/local/lib/python3.6/dist-packages (from matplotlib->catalyst) (1.3.1)\n",
            "Requirement already satisfied: python-dateutil>=2.1 in /usr/local/lib/python3.6/dist-packages (from matplotlib->catalyst) (2.8.1)\n",
            "Requirement already satisfied: pyparsing!=2.0.4,!=2.1.2,!=2.1.6,>=2.0.1 in /usr/local/lib/python3.6/dist-packages (from matplotlib->catalyst) (2.4.7)\n",
            "Requirement already satisfied: pytz>=2017.2 in /usr/local/lib/python3.6/dist-packages (from pandas>=0.22->catalyst) (2018.9)\n",
            "Requirement already satisfied: dataclasses in /usr/local/lib/python3.6/dist-packages (from torch>=1.1.0->catalyst) (0.8)\n",
            "Requirement already satisfied: typing-extensions in /usr/local/lib/python3.6/dist-packages (from torch>=1.1.0->catalyst) (3.7.4.3)\n",
            "Requirement already satisfied: future in /usr/local/lib/python3.6/dist-packages (from torch>=1.1.0->catalyst) (0.16.0)\n",
            "Requirement already satisfied: tensorboard-plugin-wit>=1.6.0 in /usr/local/lib/python3.6/dist-packages (from tensorboard>=1.14.0->catalyst) (1.7.0)\n",
            "Requirement already satisfied: werkzeug>=0.11.15 in /usr/local/lib/python3.6/dist-packages (from tensorboard>=1.14.0->catalyst) (1.0.1)\n",
            "Requirement already satisfied: grpcio>=1.24.3 in /usr/local/lib/python3.6/dist-packages (from tensorboard>=1.14.0->catalyst) (1.33.2)\n",
            "Requirement already satisfied: requests<3,>=2.21.0 in /usr/local/lib/python3.6/dist-packages (from tensorboard>=1.14.0->catalyst) (2.23.0)\n",
            "Requirement already satisfied: absl-py>=0.4 in /usr/local/lib/python3.6/dist-packages (from tensorboard>=1.14.0->catalyst) (0.10.0)\n",
            "Requirement already satisfied: markdown>=2.6.8 in /usr/local/lib/python3.6/dist-packages (from tensorboard>=1.14.0->catalyst) (3.3.3)\n",
            "Requirement already satisfied: google-auth-oauthlib<0.5,>=0.4.1 in /usr/local/lib/python3.6/dist-packages (from tensorboard>=1.14.0->catalyst) (0.4.2)\n",
            "Requirement already satisfied: google-auth<2,>=1.6.3 in /usr/local/lib/python3.6/dist-packages (from tensorboard>=1.14.0->catalyst) (1.17.2)\n",
            "Requirement already satisfied: wheel>=0.26; python_version >= \"3\" in /usr/local/lib/python3.6/dist-packages (from tensorboard>=1.14.0->catalyst) (0.35.1)\n",
            "Requirement already satisfied: ptyprocess>=0.5 in /usr/local/lib/python3.6/dist-packages (from pexpect; sys_platform != \"win32\"->ipython->catalyst) (0.6.0)\n",
            "Requirement already satisfied: wcwidth in /usr/local/lib/python3.6/dist-packages (from prompt-toolkit<2.0.0,>=1.0.4->ipython->catalyst) (0.2.5)\n",
            "Requirement already satisfied: ipython-genutils in /usr/local/lib/python3.6/dist-packages (from traitlets>=4.2->ipython->catalyst) (0.2.0)\n",
            "Requirement already satisfied: smmap<4,>=3.0.1 in /usr/local/lib/python3.6/dist-packages (from gitdb<5,>=4.0.1->GitPython>=3.1.1->catalyst) (3.0.4)\n",
            "Requirement already satisfied: certifi>=2017.4.17 in /usr/local/lib/python3.6/dist-packages (from requests<3,>=2.21.0->tensorboard>=1.14.0->catalyst) (2020.11.8)\n",
            "Requirement already satisfied: idna<3,>=2.5 in /usr/local/lib/python3.6/dist-packages (from requests<3,>=2.21.0->tensorboard>=1.14.0->catalyst) (2.10)\n",
            "Requirement already satisfied: chardet<4,>=3.0.2 in /usr/local/lib/python3.6/dist-packages (from requests<3,>=2.21.0->tensorboard>=1.14.0->catalyst) (3.0.4)\n",
            "Requirement already satisfied: urllib3!=1.25.0,!=1.25.1,<1.26,>=1.21.1 in /usr/local/lib/python3.6/dist-packages (from requests<3,>=2.21.0->tensorboard>=1.14.0->catalyst) (1.24.3)\n",
            "Requirement already satisfied: importlib-metadata; python_version < \"3.8\" in /usr/local/lib/python3.6/dist-packages (from markdown>=2.6.8->tensorboard>=1.14.0->catalyst) (2.0.0)\n",
            "Requirement already satisfied: requests-oauthlib>=0.7.0 in /usr/local/lib/python3.6/dist-packages (from google-auth-oauthlib<0.5,>=0.4.1->tensorboard>=1.14.0->catalyst) (1.3.0)\n",
            "Requirement already satisfied: cachetools<5.0,>=2.0.0 in /usr/local/lib/python3.6/dist-packages (from google-auth<2,>=1.6.3->tensorboard>=1.14.0->catalyst) (4.1.1)\n",
            "Requirement already satisfied: pyasn1-modules>=0.2.1 in /usr/local/lib/python3.6/dist-packages (from google-auth<2,>=1.6.3->tensorboard>=1.14.0->catalyst) (0.2.8)\n",
            "Requirement already satisfied: rsa<5,>=3.1.4; python_version >= \"3\" in /usr/local/lib/python3.6/dist-packages (from google-auth<2,>=1.6.3->tensorboard>=1.14.0->catalyst) (4.6)\n",
            "Requirement already satisfied: zipp>=0.5 in /usr/local/lib/python3.6/dist-packages (from importlib-metadata; python_version < \"3.8\"->markdown>=2.6.8->tensorboard>=1.14.0->catalyst) (3.4.0)\n",
            "Requirement already satisfied: oauthlib>=3.0.0 in /usr/local/lib/python3.6/dist-packages (from requests-oauthlib>=0.7.0->google-auth-oauthlib<0.5,>=0.4.1->tensorboard>=1.14.0->catalyst) (3.1.0)\n",
            "Requirement already satisfied: pyasn1<0.5.0,>=0.4.6 in /usr/local/lib/python3.6/dist-packages (from pyasn1-modules>=0.2.1->google-auth<2,>=1.6.3->tensorboard>=1.14.0->catalyst) (0.4.8)\n"
          ],
          "name": "stdout"
        }
      ]
    },
    {
      "cell_type": "code",
      "metadata": {
        "colab": {
          "base_uri": "https://localhost:8080/"
        },
        "id": "kXUHp7Q4q2MS",
        "outputId": "fe1142eb-78c5-446d-ce6e-cf1feebf4a32"
      },
      "source": [
        "!wandb login"
      ],
      "execution_count": 3,
      "outputs": [
        {
          "output_type": "stream",
          "text": [
            "\u001b[34m\u001b[1mwandb\u001b[0m: Currently logged in as: \u001b[33mdimaorekhov\u001b[0m (use `wandb login --relogin` to force relogin)\n"
          ],
          "name": "stdout"
        }
      ]
    },
    {
      "cell_type": "code",
      "metadata": {
        "id": "Jzngyn5Uqqw9"
      },
      "source": [
        "import torch\n",
        "from torch import nn\n",
        "import torch.nn.functional as F\n",
        "from torch.utils.data import DataLoader\n",
        "import torchvision.models as models\n",
        "from torchvision import transforms, datasets\n",
        "from catalyst import dl\n",
        "from catalyst.contrib.callbacks import WandbLogger\n",
        "from catalyst.utils import set_global_seed\n",
        "from dataclasses import dataclass\n",
        "from tqdm.auto import tqdm\n",
        "from pathlib import Path\n",
        "\n",
        "from torchvision.models.resnet import ResNet, BasicBlock\n",
        "from typing import Dict, List\n",
        "\n",
        "\n",
        "DEVICE = torch.device(\"cuda\")"
      ],
      "execution_count": 4,
      "outputs": []
    },
    {
      "cell_type": "code",
      "metadata": {
        "id": "B-0qvh8aqqw-"
      },
      "source": [
        "class DistillationRunner(dl.Runner):\n",
        "\n",
        "    def __init__(\n",
        "        self,\n",
        "        teacher: torch.nn.Module,\n",
        "        teacher_weight: float,\n",
        "        temperature: float,\n",
        "        model = None,\n",
        "        device = None\n",
        "    ):\n",
        "        self.teacher = teacher\n",
        "        self.teacher_weight = teacher_weight\n",
        "        self.temperature = temperature\n",
        "        super().__init__(model=model, device=device)\n",
        "\n",
        "    def _handle_batch(self, batch):\n",
        "        features, labels = batch\n",
        "\n",
        "        with torch.no_grad():\n",
        "            self.teacher.eval()\n",
        "            teacher_logits = self.teacher(features)\n",
        "\n",
        "        student_logits = self.model(features)\n",
        "\n",
        "        teacher_loss = prob_cross_entropy(\n",
        "            out=student_logits / self.temperature,\n",
        "            target=teacher_logits / self.temperature\n",
        "        )\n",
        "        scale = self.temperature ** 2\n",
        "        ce_loss = F.cross_entropy(\n",
        "            student_logits, labels\n",
        "        )\n",
        "        total_loss = (\n",
        "            (1 - self.teacher_weight) * ce_loss\n",
        "            + self.teacher_weight * scale * teacher_loss\n",
        "        )\n",
        "\n",
        "        self.batch_metrics.update({\n",
        "            'teacher_loss': teacher_loss,\n",
        "            'ce_loss': ce_loss,\n",
        "            'loss': total_loss\n",
        "        })\n",
        "\n",
        "        self.input = {'targets': labels.cpu()}\n",
        "        self.output = {'logits': student_logits.detach().cpu()}\n",
        "\n",
        "\n",
        "def prob_cross_entropy(out, target):\n",
        "    out_log_probs = F.log_softmax(out, dim=-1)\n",
        "    target_probs = F.softmax(target, dim=-1)\n",
        "    return torch.mean(-1 * torch.sum(target_probs * out_log_probs, dim=-1))\n"
      ],
      "execution_count": 5,
      "outputs": []
    },
    {
      "cell_type": "code",
      "metadata": {
        "id": "V0DXm_4Hqqw-"
      },
      "source": [
        "@dataclass\n",
        "class Config:\n",
        "\n",
        "    experiment_name: str = \"distill\"\n",
        "\n",
        "    flip_prob: float = 0.5\n",
        "    rotation_degrees: float = 25\n",
        "\n",
        "    logdir: str = 'logdir_distillation'\n",
        "\n",
        "    teacher_checkpoint: str = 'drive/MyDrive/logdir_tune/checkpoints/best.pth'\n",
        "\n",
        "    student_layers: str = \"[1, 1, 1, 1]\"\n",
        "\n",
        "    teacher_weight: float = 0.85\n",
        "    temperature: float = 1.25\n",
        "\n",
        "    max_lr: float = 1e-3\n",
        "    weight_decay: float = 1e-6\n",
        "\n",
        "    num_epochs: int = 100\n",
        "    batch_size: int = 32\n",
        "    patience: int = 2\n",
        "\n",
        "    seed: int = 21\n",
        "\n",
        "\n",
        "    def to_dict(self):\n",
        "        as_dict = {}\n",
        "        for key, val in self.__dict__.items():\n",
        "            if key == \"student_layers\":\n",
        "                val = eval(val)\n",
        "            as_dict[key] = val\n",
        "        return as_dict\n",
        "\n",
        "\n",
        "config = Config()\n",
        "set_global_seed(config.seed)"
      ],
      "execution_count": 6,
      "outputs": []
    },
    {
      "cell_type": "code",
      "metadata": {
        "id": "s5qeJmgyqqw-"
      },
      "source": [
        "normalize = transforms.Normalize(\n",
        "    mean=[0.485, 0.456, 0.406],\n",
        "    std=[0.229, 0.224, 0.225]\n",
        ")\n",
        "\n",
        "RESIZE_BY = 256\n",
        "train_transforms = transforms.Compose([\n",
        "    transforms.Resize(RESIZE_BY),\n",
        "    transforms.RandomHorizontalFlip(config.flip_prob),\n",
        "    transforms.RandomRotation(config.rotation_degrees),\n",
        "    transforms.ToTensor(),\n",
        "    normalize\n",
        "])\n",
        "\n",
        "test_transforms = transforms.Compose([\n",
        "    transforms.Resize(RESIZE_BY),\n",
        "    transforms.ToTensor(),\n",
        "    normalize\n",
        "])"
      ],
      "execution_count": 7,
      "outputs": []
    },
    {
      "cell_type": "code",
      "metadata": {
        "colab": {
          "base_uri": "https://localhost:8080/"
        },
        "id": "7lLWSfKFqqw-",
        "outputId": "4b1989f8-0292-4c46-f298-5e978cf7b3dc"
      },
      "source": [
        "train = datasets.CIFAR10('data', train=True, download=True, transform=train_transforms)\n",
        "test = datasets.CIFAR10('data', train=False, download=True, transform=test_transforms)\n",
        "print(len(train))\n",
        "print(len(test))\n",
        "\n",
        "\n",
        "N_CLASSES = 10"
      ],
      "execution_count": 8,
      "outputs": [
        {
          "output_type": "stream",
          "text": [
            "Files already downloaded and verified\n",
            "Files already downloaded and verified\n",
            "50000\n",
            "10000\n"
          ],
          "name": "stdout"
        }
      ]
    },
    {
      "cell_type": "code",
      "metadata": {
        "id": "ccBCdPOiqqw-"
      },
      "source": [
        "teacher = models.resnet18()\n",
        "teacher.fc = nn.Linear(512, N_CLASSES)\n",
        "checkpoint = torch.load(\n",
        "    config.teacher_checkpoint, map_location=torch.device(\"cpu\")\n",
        ")\n",
        "teacher.load_state_dict(checkpoint['model_state_dict'])\n",
        "teacher = teacher.eval().to(DEVICE)"
      ],
      "execution_count": 9,
      "outputs": []
    },
    {
      "cell_type": "code",
      "metadata": {
        "id": "1IKJPyU1qqw_"
      },
      "source": [
        "student = ResNet(\n",
        "    block=BasicBlock,\n",
        "    layers=eval(config.student_layers),\n",
        "    num_classes=N_CLASSES\n",
        ")"
      ],
      "execution_count": 10,
      "outputs": []
    },
    {
      "cell_type": "code",
      "metadata": {
        "id": "wOC954jhqqw_"
      },
      "source": [
        "loaders = {\n",
        "    'train': DataLoader(train, batch_size=config.batch_size, shuffle=True),\n",
        "    'valid': DataLoader(test, batch_size=config.batch_size)\n",
        "}\n",
        "\n",
        "optimizer = torch.optim.Adam(student.parameters(), weight_decay=config.weight_decay)\n",
        "scheduler = torch.optim.lr_scheduler.OneCycleLR(\n",
        "    optimizer,\n",
        "    max_lr=config.max_lr,\n",
        "    epochs=config.num_epochs,\n",
        "    steps_per_epoch=len(loaders['train'])\n",
        ")\n",
        "\n",
        "callbacks = [\n",
        "    dl.OptimizerCallback(metric_key='loss'),\n",
        "    dl.SchedulerCallback(mode='batch'),\n",
        "    dl.EarlyStoppingCallback(config.patience),\n",
        "    dl.AccuracyCallback(topk_args=[1, 3, 5], num_classes=N_CLASSES),\n",
        "    WandbLogger(\n",
        "        project='dl-course',\n",
        "        entity='dimaorekhov',\n",
        "        group='distillation',\n",
        "        name=config.experiment_name,\n",
        "        config=config.to_dict()\n",
        "    )\n",
        "]"
      ],
      "execution_count": 11,
      "outputs": []
    },
    {
      "cell_type": "code",
      "metadata": {
        "id": "w6cYt3EHqqw_"
      },
      "source": [
        "Path(config.logdir).mkdir(exist_ok=True)"
      ],
      "execution_count": 12,
      "outputs": []
    },
    {
      "cell_type": "code",
      "metadata": {
        "colab": {
          "base_uri": "https://localhost:8080/",
          "height": 1000
        },
        "id": "1jGhjv-3qqw_",
        "outputId": "70e31628-762d-40cc-d6df-0def15f69fd5"
      },
      "source": [
        "runner = DistillationRunner(\n",
        "    teacher=teacher,\n",
        "    teacher_weight=config.teacher_weight,\n",
        "    temperature=config.temperature,\n",
        "    device=DEVICE\n",
        ")\n",
        "\n",
        "runner.train(\n",
        "    model=student,\n",
        "    optimizer=optimizer,\n",
        "    scheduler=scheduler,\n",
        "    loaders=loaders,\n",
        "    callbacks=callbacks,\n",
        "    num_epochs=config.num_epochs,\n",
        "    verbose=True,\n",
        "    logdir=config.logdir\n",
        ")"
      ],
      "execution_count": null,
      "outputs": [
        {
          "output_type": "stream",
          "text": [
            "\u001b[34m\u001b[1mwandb\u001b[0m: Currently logged in as: \u001b[33mdimaorekhov\u001b[0m (use `wandb login --relogin` to force relogin)\n"
          ],
          "name": "stderr"
        },
        {
          "output_type": "display_data",
          "data": {
            "text/html": [
              "\n",
              "                Tracking run with wandb version 0.10.11<br/>\n",
              "                Syncing run <strong style=\"color:#cdcd00\">distill</strong> to <a href=\"https://wandb.ai\" target=\"_blank\">Weights & Biases</a> <a href=\"https://docs.wandb.com/integrations/jupyter.html\" target=\"_blank\">(Documentation)</a>.<br/>\n",
              "                Project page: <a href=\"https://wandb.ai/dimaorekhov/dl-course\" target=\"_blank\">https://wandb.ai/dimaorekhov/dl-course</a><br/>\n",
              "                Run page: <a href=\"https://wandb.ai/dimaorekhov/dl-course/runs/4v79ch3x\" target=\"_blank\">https://wandb.ai/dimaorekhov/dl-course/runs/4v79ch3x</a><br/>\n",
              "                Run data is saved locally in <code>logdir_distillation/wandb/run-20201130_152033-4v79ch3x</code><br/><br/>\n",
              "            "
            ],
            "text/plain": [
              "<IPython.core.display.HTML object>"
            ]
          },
          "metadata": {
            "tags": []
          }
        },
        {
          "output_type": "stream",
          "text": [
            "1/100 * Epoch (train):   0% 1/1563 [00:00<11:30,  2.26it/s, accuracy01=0.094, accuracy03=0.250, accuracy05=0.531, ce_loss=2.426, loss=3.545, lr=4.000e-05, momentum=0.950, teacher_loss=2.395]"
          ],
          "name": "stdout"
        },
        {
          "output_type": "stream",
          "text": [
            "/usr/local/lib/python3.6/dist-packages/torch/optim/lr_scheduler.py:1241: UserWarning:\n",
            "\n",
            "To get the last learning rate computed by the scheduler, please use `get_last_lr()`.\n",
            "\n"
          ],
          "name": "stderr"
        },
        {
          "output_type": "stream",
          "text": [
            "1/100 * Epoch (train): 100% 1563/1563 [09:08<00:00,  2.85it/s, accuracy01=0.438, accuracy03=0.750, accuracy05=0.875, ce_loss=1.605, loss=2.251, lr=4.263e-05, momentum=0.950, teacher_loss=1.513]\n",
            "1/100 * Epoch (valid): 100% 313/313 [01:08<00:00,  4.58it/s, accuracy01=0.625, accuracy03=0.875, accuracy05=0.875, ce_loss=1.204, loss=1.761, teacher_loss=1.190]\n",
            "[2020-11-30 15:30:52,522] \n",
            "1/100 * Epoch 1 (_base): lr=4.263e-05 | momentum=0.9497\n",
            "1/100 * Epoch 1 (train): accuracy01=0.4300 | accuracy03=0.7655 | accuracy05=0.8983 | ce_loss=1.5652 | loss=2.3658 | lr=4.088e-05 | momentum=0.9499 | teacher_loss=1.6046\n",
            "1/100 * Epoch 1 (valid): accuracy01=0.5278 | accuracy03=0.8465 | accuracy05=0.9450 | ce_loss=1.2982 | loss=1.9575 | teacher_loss=1.3273\n",
            "2/100 * Epoch (train): 100% 1563/1563 [09:01<00:00,  2.89it/s, accuracy01=0.500, accuracy03=0.938, accuracy05=0.938, ce_loss=1.227, loss=1.843, lr=5.049e-05, momentum=0.949, teacher_loss=1.249]\n",
            "2/100 * Epoch (valid): 100% 313/313 [01:09<00:00,  4.50it/s, accuracy01=0.625, accuracy03=0.938, accuracy05=0.938, ce_loss=0.983, loss=1.531, teacher_loss=1.042]\n",
            "[2020-11-30 15:41:03,991] \n",
            "2/100 * Epoch 2 (_base): lr=5.049e-05 | momentum=0.9489\n",
            "2/100 * Epoch 2 (train): accuracy01=0.5506 | accuracy03=0.8519 | accuracy05=0.9447 | ce_loss=1.2469 | loss=1.9072 | lr=4.613e-05 | momentum=0.9494 | teacher_loss=1.2952\n",
            "2/100 * Epoch 2 (valid): accuracy01=0.5929 | accuracy03=0.8767 | accuracy05=0.9587 | ce_loss=1.1355 | loss=1.7179 | teacher_loss=1.1652\n",
            "3/100 * Epoch (train): 100% 1563/1563 [09:10<00:00,  2.84it/s, accuracy01=0.812, accuracy03=0.938, accuracy05=1.000, ce_loss=0.853, loss=1.464, lr=6.349e-05, momentum=0.948, teacher_loss=1.006]\n",
            "3/100 * Epoch (valid): 100% 313/313 [01:08<00:00,  4.60it/s, accuracy01=0.625, accuracy03=0.938, accuracy05=1.000, ce_loss=0.906, loss=1.399, teacher_loss=0.951]\n",
            "[2020-11-30 15:51:23,406] \n",
            "3/100 * Epoch 3 (_base): lr=6.349e-05 | momentum=0.9476\n",
            "3/100 * Epoch 3 (train): accuracy01=0.6030 | accuracy03=0.8798 | accuracy05=0.9577 | ce_loss=1.1081 | loss=1.7071 | lr=5.657e-05 | momentum=0.9483 | teacher_loss=1.1602\n",
            "3/100 * Epoch 3 (valid): accuracy01=0.6204 | accuracy03=0.8941 | accuracy05=0.9647 | ce_loss=1.0627 | loss=1.6117 | teacher_loss=1.0935\n",
            "4/100 * Epoch (train): 100% 1563/1563 [08:59<00:00,  2.90it/s, accuracy01=0.625, accuracy03=0.875, accuracy05=0.938, ce_loss=1.069, loss=1.647, lr=8.150e-05, momentum=0.946, teacher_loss=1.119]\n",
            "4/100 * Epoch (valid): 100% 313/313 [01:07<00:00,  4.61it/s, accuracy01=0.625, accuracy03=1.000, accuracy05=1.000, ce_loss=0.907, loss=1.338, teacher_loss=0.905]\n",
            "[2020-11-30 16:01:31,391] \n",
            "4/100 * Epoch 4 (_base): lr=8.150e-05 | momentum=0.9457\n",
            "4/100 * Epoch 4 (train): accuracy01=0.6434 | accuracy03=0.8991 | accuracy05=0.9670 | ce_loss=1.0037 | loss=1.5589 | lr=7.209e-05 | momentum=0.9467 | teacher_loss=1.0604\n",
            "4/100 * Epoch 4 (valid): accuracy01=0.6684 | accuracy03=0.9147 | accuracy05=0.9744 | ce_loss=0.9357 | loss=1.4197 | teacher_loss=0.9633\n",
            "5/100 * Epoch (train): 100% 1563/1563 [09:04<00:00,  2.87it/s, accuracy01=0.750, accuracy03=0.938, accuracy05=0.938, ce_loss=0.904, loss=1.464, lr=1.043e-04, momentum=0.943, teacher_loss=1.000]\n",
            "5/100 * Epoch (valid): 100% 313/313 [01:08<00:00,  4.60it/s, accuracy01=0.625, accuracy03=1.000, accuracy05=1.000, ce_loss=0.671, loss=1.084, teacher_loss=0.740]\n",
            "[2020-11-30 16:11:44,851] \n",
            "5/100 * Epoch 5 (_base): lr=0.0001 | momentum=0.9433\n",
            "5/100 * Epoch 5 (train): accuracy01=0.6753 | accuracy03=0.9136 | accuracy05=0.9731 | ce_loss=0.9233 | loss=1.4451 | lr=9.252e-05 | momentum=0.9445 | teacher_loss=0.9838\n",
            "5/100 * Epoch 5 (valid): accuracy01=0.6779 | accuracy03=0.9161 | accuracy05=0.9702 | ce_loss=0.9210 | loss=1.3954 | teacher_loss=0.9466\n",
            "6/100 * Epoch (train): 100% 1563/1563 [08:59<00:00,  2.90it/s, accuracy01=0.812, accuracy03=1.000, accuracy05=1.000, ce_loss=0.594, loss=0.923, lr=1.317e-04, momentum=0.940, teacher_loss=0.628]\n",
            "6/100 * Epoch (valid): 100% 313/313 [01:07<00:00,  4.61it/s, accuracy01=0.625, accuracy03=1.000, accuracy05=1.000, ce_loss=0.567, loss=0.939, teacher_loss=0.643]\n",
            "[2020-11-30 16:21:52,503] \n",
            "6/100 * Epoch 6 (_base): lr=0.0001 | momentum=0.9405\n",
            "6/100 * Epoch 6 (train): accuracy01=0.7024 | accuracy03=0.9239 | accuracy05=0.9770 | ce_loss=0.8463 | loss=1.3351 | lr=0.0001 | momentum=0.9419 | teacher_loss=0.9096\n",
            "6/100 * Epoch 6 (valid): accuracy01=0.7202 | accuracy03=0.9322 | accuracy05=0.9793 | ce_loss=0.8206 | loss=1.2563 | teacher_loss=0.8532\n",
            "7/100 * Epoch (train): 100% 1563/1563 [09:04<00:00,  2.87it/s, accuracy01=0.750, accuracy03=1.000, accuracy05=1.000, ce_loss=0.913, loss=1.517, lr=1.633e-04, momentum=0.937, teacher_loss=1.039]\n",
            "7/100 * Epoch (valid): 100% 313/313 [01:08<00:00,  4.58it/s, accuracy01=0.688, accuracy03=1.000, accuracy05=1.000, ce_loss=0.622, loss=1.067, teacher_loss=0.733]\n",
            "[2020-11-30 16:32:05,585] \n",
            "7/100 * Epoch 7 (_base): lr=0.0002 | momentum=0.9372\n",
            "7/100 * Epoch 7 (train): accuracy01=0.7266 | accuracy03=0.9320 | accuracy05=0.9796 | ce_loss=0.7834 | loss=1.2500 | lr=0.0001 | momentum=0.9388 | teacher_loss=0.8527\n",
            "7/100 * Epoch 7 (valid): accuracy01=0.7480 | accuracy03=0.9429 | accuracy05=0.9858 | ce_loss=0.7380 | loss=1.1549 | teacher_loss=0.7862\n",
            "8/100 * Epoch (train): 100% 1563/1563 [09:02<00:00,  2.88it/s, accuracy01=0.875, accuracy03=1.000, accuracy05=1.000, ce_loss=0.415, loss=1.076, lr=1.988e-04, momentum=0.933, teacher_loss=0.764]\n",
            "8/100 * Epoch (valid): 100% 313/313 [01:08<00:00,  4.56it/s, accuracy01=0.750, accuracy03=1.000, accuracy05=1.000, ce_loss=0.519, loss=0.956, teacher_loss=0.661]\n",
            "[2020-11-30 16:42:17,693] \n",
            "8/100 * Epoch 8 (_base): lr=0.0002 | momentum=0.9335\n",
            "8/100 * Epoch 8 (train): accuracy01=0.7472 | accuracy03=0.9386 | accuracy05=0.9823 | ce_loss=0.7335 | loss=1.1785 | lr=0.0002 | momentum=0.9353 | teacher_loss=0.8045\n",
            "8/100 * Epoch 8 (valid): accuracy01=0.7486 | accuracy03=0.9418 | accuracy05=0.9835 | ce_loss=0.7534 | loss=1.1536 | teacher_loss=0.7835\n",
            "9/100 * Epoch (train): 100% 1563/1563 [09:10<00:00,  2.84it/s, accuracy01=0.750, accuracy03=0.938, accuracy05=0.938, ce_loss=0.679, loss=0.930, lr=2.379e-04, momentum=0.929, teacher_loss=0.623]\n",
            "9/100 * Epoch (valid): 100% 313/313 [01:10<00:00,  4.47it/s, accuracy01=0.812, accuracy03=1.000, accuracy05=1.000, ce_loss=0.448, loss=0.794, teacher_loss=0.547]\n",
            "[2020-11-30 16:52:38,768] \n",
            "9/100 * Epoch 9 (_base): lr=0.0002 | momentum=0.9294\n",
            "9/100 * Epoch 9 (train): accuracy01=0.7650 | accuracy03=0.9455 | accuracy05=0.9847 | ce_loss=0.6823 | loss=1.1105 | lr=0.0002 | momentum=0.9315 | teacher_loss=0.7591\n",
            "9/100 * Epoch 9 (valid): accuracy01=0.7646 | accuracy03=0.9493 | accuracy05=0.9858 | ce_loss=0.7023 | loss=1.1001 | teacher_loss=0.7490\n",
            "10/100 * Epoch (train):  50% 786/1563 [04:37<04:35,  2.82it/s, accuracy01=0.656, accuracy03=0.938, accuracy05=0.969, ce_loss=0.849, loss=1.290, lr=2.587e-04, momentum=0.927, teacher_loss=0.875]"
          ],
          "name": "stdout"
        }
      ]
    },
    {
      "cell_type": "code",
      "metadata": {
        "id": "EC8abpehqqw_"
      },
      "source": [
        ""
      ],
      "execution_count": null,
      "outputs": []
    }
  ]
}