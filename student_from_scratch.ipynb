{
  "nbformat": 4,
  "nbformat_minor": 0,
  "metadata": {
    "kernelspec": {
      "display_name": "Python 3",
      "language": "python",
      "name": "python3"
    },
    "language_info": {
      "codemirror_mode": {
        "name": "ipython",
        "version": 3
      },
      "file_extension": ".py",
      "mimetype": "text/x-python",
      "name": "python",
      "nbconvert_exporter": "python",
      "pygments_lexer": "ipython3",
      "version": "3.8.5"
    },
    "colab": {
      "name": "student_from_scratch.ipynb",
      "provenance": [],
      "collapsed_sections": []
    },
    "accelerator": "GPU",
    "widgets": {
      "application/vnd.jupyter.widget-state+json": {
        "3971ce84f06f4f37a6536467d67ab582": {
          "model_module": "@jupyter-widgets/controls",
          "model_name": "VBoxModel",
          "state": {
            "_view_name": "VBoxView",
            "_dom_classes": [],
            "_model_name": "VBoxModel",
            "_view_module": "@jupyter-widgets/controls",
            "_model_module_version": "1.5.0",
            "_view_count": null,
            "_view_module_version": "1.5.0",
            "box_style": "",
            "layout": "IPY_MODEL_1ea16706779b4a8d9ad41065c237d805",
            "_model_module": "@jupyter-widgets/controls",
            "children": [
              "IPY_MODEL_1e07aa671f4f42c995085c9d6e93dbd2",
              "IPY_MODEL_6e97ae20b856491096e137b6179564f3"
            ]
          }
        },
        "1ea16706779b4a8d9ad41065c237d805": {
          "model_module": "@jupyter-widgets/base",
          "model_name": "LayoutModel",
          "state": {
            "_view_name": "LayoutView",
            "grid_template_rows": null,
            "right": null,
            "justify_content": null,
            "_view_module": "@jupyter-widgets/base",
            "overflow": null,
            "_model_module_version": "1.2.0",
            "_view_count": null,
            "flex_flow": null,
            "width": null,
            "min_width": null,
            "border": null,
            "align_items": null,
            "bottom": null,
            "_model_module": "@jupyter-widgets/base",
            "top": null,
            "grid_column": null,
            "overflow_y": null,
            "overflow_x": null,
            "grid_auto_flow": null,
            "grid_area": null,
            "grid_template_columns": null,
            "flex": null,
            "_model_name": "LayoutModel",
            "justify_items": null,
            "grid_row": null,
            "max_height": null,
            "align_content": null,
            "visibility": null,
            "align_self": null,
            "height": null,
            "min_height": null,
            "padding": null,
            "grid_auto_rows": null,
            "grid_gap": null,
            "max_width": null,
            "order": null,
            "_view_module_version": "1.2.0",
            "grid_template_areas": null,
            "object_position": null,
            "object_fit": null,
            "grid_auto_columns": null,
            "margin": null,
            "display": null,
            "left": null
          }
        },
        "1e07aa671f4f42c995085c9d6e93dbd2": {
          "model_module": "@jupyter-widgets/controls",
          "model_name": "LabelModel",
          "state": {
            "_view_name": "LabelView",
            "style": "IPY_MODEL_0c0f6c415d9b467e935c036a8ac1ab9e",
            "_dom_classes": [],
            "description": "",
            "_model_name": "LabelModel",
            "placeholder": "​",
            "_view_module": "@jupyter-widgets/controls",
            "_model_module_version": "1.5.0",
            "value": " 14.78MB of 14.78MB uploaded (0.00MB deduped)\r",
            "_view_count": null,
            "_view_module_version": "1.5.0",
            "description_tooltip": null,
            "_model_module": "@jupyter-widgets/controls",
            "layout": "IPY_MODEL_7705ac5361714412afcc16d5813167e5"
          }
        },
        "6e97ae20b856491096e137b6179564f3": {
          "model_module": "@jupyter-widgets/controls",
          "model_name": "FloatProgressModel",
          "state": {
            "_view_name": "ProgressView",
            "style": "IPY_MODEL_2af4bf382491417892019358c28481de",
            "_dom_classes": [],
            "description": "",
            "_model_name": "FloatProgressModel",
            "bar_style": "",
            "max": 1,
            "_view_module": "@jupyter-widgets/controls",
            "_model_module_version": "1.5.0",
            "value": 1,
            "_view_count": null,
            "_view_module_version": "1.5.0",
            "orientation": "horizontal",
            "min": 0,
            "description_tooltip": null,
            "_model_module": "@jupyter-widgets/controls",
            "layout": "IPY_MODEL_8ff4b02fa55d49d3867b056b8505085c"
          }
        },
        "0c0f6c415d9b467e935c036a8ac1ab9e": {
          "model_module": "@jupyter-widgets/controls",
          "model_name": "DescriptionStyleModel",
          "state": {
            "_view_name": "StyleView",
            "_model_name": "DescriptionStyleModel",
            "description_width": "",
            "_view_module": "@jupyter-widgets/base",
            "_model_module_version": "1.5.0",
            "_view_count": null,
            "_view_module_version": "1.2.0",
            "_model_module": "@jupyter-widgets/controls"
          }
        },
        "7705ac5361714412afcc16d5813167e5": {
          "model_module": "@jupyter-widgets/base",
          "model_name": "LayoutModel",
          "state": {
            "_view_name": "LayoutView",
            "grid_template_rows": null,
            "right": null,
            "justify_content": null,
            "_view_module": "@jupyter-widgets/base",
            "overflow": null,
            "_model_module_version": "1.2.0",
            "_view_count": null,
            "flex_flow": null,
            "width": null,
            "min_width": null,
            "border": null,
            "align_items": null,
            "bottom": null,
            "_model_module": "@jupyter-widgets/base",
            "top": null,
            "grid_column": null,
            "overflow_y": null,
            "overflow_x": null,
            "grid_auto_flow": null,
            "grid_area": null,
            "grid_template_columns": null,
            "flex": null,
            "_model_name": "LayoutModel",
            "justify_items": null,
            "grid_row": null,
            "max_height": null,
            "align_content": null,
            "visibility": null,
            "align_self": null,
            "height": null,
            "min_height": null,
            "padding": null,
            "grid_auto_rows": null,
            "grid_gap": null,
            "max_width": null,
            "order": null,
            "_view_module_version": "1.2.0",
            "grid_template_areas": null,
            "object_position": null,
            "object_fit": null,
            "grid_auto_columns": null,
            "margin": null,
            "display": null,
            "left": null
          }
        },
        "2af4bf382491417892019358c28481de": {
          "model_module": "@jupyter-widgets/controls",
          "model_name": "ProgressStyleModel",
          "state": {
            "_view_name": "StyleView",
            "_model_name": "ProgressStyleModel",
            "description_width": "",
            "_view_module": "@jupyter-widgets/base",
            "_model_module_version": "1.5.0",
            "_view_count": null,
            "_view_module_version": "1.2.0",
            "bar_color": null,
            "_model_module": "@jupyter-widgets/controls"
          }
        },
        "8ff4b02fa55d49d3867b056b8505085c": {
          "model_module": "@jupyter-widgets/base",
          "model_name": "LayoutModel",
          "state": {
            "_view_name": "LayoutView",
            "grid_template_rows": null,
            "right": null,
            "justify_content": null,
            "_view_module": "@jupyter-widgets/base",
            "overflow": null,
            "_model_module_version": "1.2.0",
            "_view_count": null,
            "flex_flow": null,
            "width": null,
            "min_width": null,
            "border": null,
            "align_items": null,
            "bottom": null,
            "_model_module": "@jupyter-widgets/base",
            "top": null,
            "grid_column": null,
            "overflow_y": null,
            "overflow_x": null,
            "grid_auto_flow": null,
            "grid_area": null,
            "grid_template_columns": null,
            "flex": null,
            "_model_name": "LayoutModel",
            "justify_items": null,
            "grid_row": null,
            "max_height": null,
            "align_content": null,
            "visibility": null,
            "align_self": null,
            "height": null,
            "min_height": null,
            "padding": null,
            "grid_auto_rows": null,
            "grid_gap": null,
            "max_width": null,
            "order": null,
            "_view_module_version": "1.2.0",
            "grid_template_areas": null,
            "object_position": null,
            "object_fit": null,
            "grid_auto_columns": null,
            "margin": null,
            "display": null,
            "left": null
          }
        }
      }
    }
  },
  "cells": [
    {
      "cell_type": "code",
      "metadata": {
        "colab": {
          "base_uri": "https://localhost:8080/"
        },
        "id": "fhZT55f1IqdU",
        "outputId": "a11f5433-d7b5-471c-90c3-52577f182d18"
      },
      "source": [
        "from google.colab import drive\n",
        "drive.mount('/content/drive')"
      ],
      "execution_count": null,
      "outputs": [
        {
          "output_type": "stream",
          "text": [
            "Drive already mounted at /content/drive; to attempt to forcibly remount, call drive.mount(\"/content/drive\", force_remount=True).\n"
          ],
          "name": "stdout"
        }
      ]
    },
    {
      "cell_type": "code",
      "metadata": {
        "colab": {
          "base_uri": "https://localhost:8080/"
        },
        "id": "qU77Z4LRIt0Y",
        "outputId": "758d4b30-6528-46be-c5c7-f538061e2e79"
      },
      "source": [
        "!pip install wandb\n",
        "!pip install catalyst"
      ],
      "execution_count": null,
      "outputs": [
        {
          "output_type": "stream",
          "text": [
            "Requirement already satisfied: wandb in /usr/local/lib/python3.6/dist-packages (0.10.11)\n",
            "Requirement already satisfied: shortuuid>=0.5.0 in /usr/local/lib/python3.6/dist-packages (from wandb) (1.0.1)\n",
            "Requirement already satisfied: watchdog>=0.8.3 in /usr/local/lib/python3.6/dist-packages (from wandb) (0.10.4)\n",
            "Requirement already satisfied: psutil>=5.0.0 in /usr/local/lib/python3.6/dist-packages (from wandb) (5.4.8)\n",
            "Requirement already satisfied: promise<3,>=2.0 in /usr/local/lib/python3.6/dist-packages (from wandb) (2.3)\n",
            "Requirement already satisfied: six>=1.13.0 in /usr/local/lib/python3.6/dist-packages (from wandb) (1.15.0)\n",
            "Requirement already satisfied: protobuf>=3.12.0 in /usr/local/lib/python3.6/dist-packages (from wandb) (3.12.4)\n",
            "Requirement already satisfied: GitPython>=1.0.0 in /usr/local/lib/python3.6/dist-packages (from wandb) (3.1.11)\n",
            "Requirement already satisfied: sentry-sdk>=0.4.0 in /usr/local/lib/python3.6/dist-packages (from wandb) (0.19.4)\n",
            "Requirement already satisfied: docker-pycreds>=0.4.0 in /usr/local/lib/python3.6/dist-packages (from wandb) (0.4.0)\n",
            "Requirement already satisfied: Click>=7.0 in /usr/local/lib/python3.6/dist-packages (from wandb) (7.1.2)\n",
            "Requirement already satisfied: subprocess32>=3.5.3 in /usr/local/lib/python3.6/dist-packages (from wandb) (3.5.4)\n",
            "Requirement already satisfied: configparser>=3.8.1 in /usr/local/lib/python3.6/dist-packages (from wandb) (5.0.1)\n",
            "Requirement already satisfied: python-dateutil>=2.6.1 in /usr/local/lib/python3.6/dist-packages (from wandb) (2.8.1)\n",
            "Requirement already satisfied: PyYAML in /usr/local/lib/python3.6/dist-packages (from wandb) (3.13)\n",
            "Requirement already satisfied: requests<3,>=2.0.0 in /usr/local/lib/python3.6/dist-packages (from wandb) (2.23.0)\n",
            "Requirement already satisfied: pathtools>=0.1.1 in /usr/local/lib/python3.6/dist-packages (from watchdog>=0.8.3->wandb) (0.1.2)\n",
            "Requirement already satisfied: setuptools in /usr/local/lib/python3.6/dist-packages (from protobuf>=3.12.0->wandb) (50.3.2)\n",
            "Requirement already satisfied: gitdb<5,>=4.0.1 in /usr/local/lib/python3.6/dist-packages (from GitPython>=1.0.0->wandb) (4.0.5)\n",
            "Requirement already satisfied: certifi in /usr/local/lib/python3.6/dist-packages (from sentry-sdk>=0.4.0->wandb) (2020.11.8)\n",
            "Requirement already satisfied: urllib3>=1.10.0 in /usr/local/lib/python3.6/dist-packages (from sentry-sdk>=0.4.0->wandb) (1.24.3)\n",
            "Requirement already satisfied: chardet<4,>=3.0.2 in /usr/local/lib/python3.6/dist-packages (from requests<3,>=2.0.0->wandb) (3.0.4)\n",
            "Requirement already satisfied: idna<3,>=2.5 in /usr/local/lib/python3.6/dist-packages (from requests<3,>=2.0.0->wandb) (2.10)\n",
            "Requirement already satisfied: smmap<4,>=3.0.1 in /usr/local/lib/python3.6/dist-packages (from gitdb<5,>=4.0.1->GitPython>=1.0.0->wandb) (3.0.4)\n",
            "Requirement already satisfied: catalyst in /usr/local/lib/python3.6/dist-packages (20.11)\n",
            "Requirement already satisfied: ipython in /usr/local/lib/python3.6/dist-packages (from catalyst) (5.5.0)\n",
            "Requirement already satisfied: tensorboard>=1.14.0 in /usr/local/lib/python3.6/dist-packages (from catalyst) (2.3.0)\n",
            "Requirement already satisfied: torch>=1.1.0 in /usr/local/lib/python3.6/dist-packages (from catalyst) (1.7.0+cu101)\n",
            "Requirement already satisfied: matplotlib in /usr/local/lib/python3.6/dist-packages (from catalyst) (3.2.2)\n",
            "Requirement already satisfied: pandas>=0.22 in /usr/local/lib/python3.6/dist-packages (from catalyst) (1.1.4)\n",
            "Requirement already satisfied: PyYAML in /usr/local/lib/python3.6/dist-packages (from catalyst) (3.13)\n",
            "Requirement already satisfied: GitPython>=3.1.1 in /usr/local/lib/python3.6/dist-packages (from catalyst) (3.1.11)\n",
            "Requirement already satisfied: tensorboardX in /usr/local/lib/python3.6/dist-packages (from catalyst) (2.1)\n",
            "Requirement already satisfied: scikit-learn>=0.20 in /usr/local/lib/python3.6/dist-packages (from catalyst) (0.22.2.post1)\n",
            "Requirement already satisfied: numpy>=1.16.4 in /usr/local/lib/python3.6/dist-packages (from catalyst) (1.18.5)\n",
            "Requirement already satisfied: deprecation in /usr/local/lib/python3.6/dist-packages (from catalyst) (2.1.0)\n",
            "Requirement already satisfied: plotly>=4.1.0 in /usr/local/lib/python3.6/dist-packages (from catalyst) (4.4.1)\n",
            "Requirement already satisfied: tqdm>=4.33.0 in /usr/local/lib/python3.6/dist-packages (from catalyst) (4.41.1)\n",
            "Requirement already satisfied: packaging in /usr/local/lib/python3.6/dist-packages (from catalyst) (20.4)\n",
            "Requirement already satisfied: prompt-toolkit<2.0.0,>=1.0.4 in /usr/local/lib/python3.6/dist-packages (from ipython->catalyst) (1.0.18)\n",
            "Requirement already satisfied: decorator in /usr/local/lib/python3.6/dist-packages (from ipython->catalyst) (4.4.2)\n",
            "Requirement already satisfied: pygments in /usr/local/lib/python3.6/dist-packages (from ipython->catalyst) (2.6.1)\n",
            "Requirement already satisfied: traitlets>=4.2 in /usr/local/lib/python3.6/dist-packages (from ipython->catalyst) (4.3.3)\n",
            "Requirement already satisfied: simplegeneric>0.8 in /usr/local/lib/python3.6/dist-packages (from ipython->catalyst) (0.8.1)\n",
            "Requirement already satisfied: setuptools>=18.5 in /usr/local/lib/python3.6/dist-packages (from ipython->catalyst) (50.3.2)\n",
            "Requirement already satisfied: pickleshare in /usr/local/lib/python3.6/dist-packages (from ipython->catalyst) (0.7.5)\n",
            "Requirement already satisfied: pexpect; sys_platform != \"win32\" in /usr/local/lib/python3.6/dist-packages (from ipython->catalyst) (4.8.0)\n",
            "Requirement already satisfied: markdown>=2.6.8 in /usr/local/lib/python3.6/dist-packages (from tensorboard>=1.14.0->catalyst) (3.3.3)\n",
            "Requirement already satisfied: tensorboard-plugin-wit>=1.6.0 in /usr/local/lib/python3.6/dist-packages (from tensorboard>=1.14.0->catalyst) (1.7.0)\n",
            "Requirement already satisfied: protobuf>=3.6.0 in /usr/local/lib/python3.6/dist-packages (from tensorboard>=1.14.0->catalyst) (3.12.4)\n",
            "Requirement already satisfied: werkzeug>=0.11.15 in /usr/local/lib/python3.6/dist-packages (from tensorboard>=1.14.0->catalyst) (1.0.1)\n",
            "Requirement already satisfied: wheel>=0.26; python_version >= \"3\" in /usr/local/lib/python3.6/dist-packages (from tensorboard>=1.14.0->catalyst) (0.35.1)\n",
            "Requirement already satisfied: six>=1.10.0 in /usr/local/lib/python3.6/dist-packages (from tensorboard>=1.14.0->catalyst) (1.15.0)\n",
            "Requirement already satisfied: absl-py>=0.4 in /usr/local/lib/python3.6/dist-packages (from tensorboard>=1.14.0->catalyst) (0.10.0)\n",
            "Requirement already satisfied: google-auth<2,>=1.6.3 in /usr/local/lib/python3.6/dist-packages (from tensorboard>=1.14.0->catalyst) (1.17.2)\n",
            "Requirement already satisfied: google-auth-oauthlib<0.5,>=0.4.1 in /usr/local/lib/python3.6/dist-packages (from tensorboard>=1.14.0->catalyst) (0.4.2)\n",
            "Requirement already satisfied: requests<3,>=2.21.0 in /usr/local/lib/python3.6/dist-packages (from tensorboard>=1.14.0->catalyst) (2.23.0)\n",
            "Requirement already satisfied: grpcio>=1.24.3 in /usr/local/lib/python3.6/dist-packages (from tensorboard>=1.14.0->catalyst) (1.33.2)\n",
            "Requirement already satisfied: future in /usr/local/lib/python3.6/dist-packages (from torch>=1.1.0->catalyst) (0.16.0)\n",
            "Requirement already satisfied: typing-extensions in /usr/local/lib/python3.6/dist-packages (from torch>=1.1.0->catalyst) (3.7.4.3)\n",
            "Requirement already satisfied: dataclasses in /usr/local/lib/python3.6/dist-packages (from torch>=1.1.0->catalyst) (0.8)\n",
            "Requirement already satisfied: pyparsing!=2.0.4,!=2.1.2,!=2.1.6,>=2.0.1 in /usr/local/lib/python3.6/dist-packages (from matplotlib->catalyst) (2.4.7)\n",
            "Requirement already satisfied: kiwisolver>=1.0.1 in /usr/local/lib/python3.6/dist-packages (from matplotlib->catalyst) (1.3.1)\n",
            "Requirement already satisfied: python-dateutil>=2.1 in /usr/local/lib/python3.6/dist-packages (from matplotlib->catalyst) (2.8.1)\n",
            "Requirement already satisfied: cycler>=0.10 in /usr/local/lib/python3.6/dist-packages (from matplotlib->catalyst) (0.10.0)\n",
            "Requirement already satisfied: pytz>=2017.2 in /usr/local/lib/python3.6/dist-packages (from pandas>=0.22->catalyst) (2018.9)\n",
            "Requirement already satisfied: gitdb<5,>=4.0.1 in /usr/local/lib/python3.6/dist-packages (from GitPython>=3.1.1->catalyst) (4.0.5)\n",
            "Requirement already satisfied: scipy>=0.17.0 in /usr/local/lib/python3.6/dist-packages (from scikit-learn>=0.20->catalyst) (1.4.1)\n",
            "Requirement already satisfied: joblib>=0.11 in /usr/local/lib/python3.6/dist-packages (from scikit-learn>=0.20->catalyst) (0.17.0)\n",
            "Requirement already satisfied: retrying>=1.3.3 in /usr/local/lib/python3.6/dist-packages (from plotly>=4.1.0->catalyst) (1.3.3)\n",
            "Requirement already satisfied: wcwidth in /usr/local/lib/python3.6/dist-packages (from prompt-toolkit<2.0.0,>=1.0.4->ipython->catalyst) (0.2.5)\n",
            "Requirement already satisfied: ipython-genutils in /usr/local/lib/python3.6/dist-packages (from traitlets>=4.2->ipython->catalyst) (0.2.0)\n",
            "Requirement already satisfied: ptyprocess>=0.5 in /usr/local/lib/python3.6/dist-packages (from pexpect; sys_platform != \"win32\"->ipython->catalyst) (0.6.0)\n",
            "Requirement already satisfied: importlib-metadata; python_version < \"3.8\" in /usr/local/lib/python3.6/dist-packages (from markdown>=2.6.8->tensorboard>=1.14.0->catalyst) (2.0.0)\n",
            "Requirement already satisfied: rsa<5,>=3.1.4; python_version >= \"3\" in /usr/local/lib/python3.6/dist-packages (from google-auth<2,>=1.6.3->tensorboard>=1.14.0->catalyst) (4.6)\n",
            "Requirement already satisfied: cachetools<5.0,>=2.0.0 in /usr/local/lib/python3.6/dist-packages (from google-auth<2,>=1.6.3->tensorboard>=1.14.0->catalyst) (4.1.1)\n",
            "Requirement already satisfied: pyasn1-modules>=0.2.1 in /usr/local/lib/python3.6/dist-packages (from google-auth<2,>=1.6.3->tensorboard>=1.14.0->catalyst) (0.2.8)\n",
            "Requirement already satisfied: requests-oauthlib>=0.7.0 in /usr/local/lib/python3.6/dist-packages (from google-auth-oauthlib<0.5,>=0.4.1->tensorboard>=1.14.0->catalyst) (1.3.0)\n",
            "Requirement already satisfied: chardet<4,>=3.0.2 in /usr/local/lib/python3.6/dist-packages (from requests<3,>=2.21.0->tensorboard>=1.14.0->catalyst) (3.0.4)\n",
            "Requirement already satisfied: certifi>=2017.4.17 in /usr/local/lib/python3.6/dist-packages (from requests<3,>=2.21.0->tensorboard>=1.14.0->catalyst) (2020.11.8)\n",
            "Requirement already satisfied: urllib3!=1.25.0,!=1.25.1,<1.26,>=1.21.1 in /usr/local/lib/python3.6/dist-packages (from requests<3,>=2.21.0->tensorboard>=1.14.0->catalyst) (1.24.3)\n",
            "Requirement already satisfied: idna<3,>=2.5 in /usr/local/lib/python3.6/dist-packages (from requests<3,>=2.21.0->tensorboard>=1.14.0->catalyst) (2.10)\n",
            "Requirement already satisfied: smmap<4,>=3.0.1 in /usr/local/lib/python3.6/dist-packages (from gitdb<5,>=4.0.1->GitPython>=3.1.1->catalyst) (3.0.4)\n",
            "Requirement already satisfied: zipp>=0.5 in /usr/local/lib/python3.6/dist-packages (from importlib-metadata; python_version < \"3.8\"->markdown>=2.6.8->tensorboard>=1.14.0->catalyst) (3.4.0)\n",
            "Requirement already satisfied: pyasn1>=0.1.3 in /usr/local/lib/python3.6/dist-packages (from rsa<5,>=3.1.4; python_version >= \"3\"->google-auth<2,>=1.6.3->tensorboard>=1.14.0->catalyst) (0.4.8)\n",
            "Requirement already satisfied: oauthlib>=3.0.0 in /usr/local/lib/python3.6/dist-packages (from requests-oauthlib>=0.7.0->google-auth-oauthlib<0.5,>=0.4.1->tensorboard>=1.14.0->catalyst) (3.1.0)\n"
          ],
          "name": "stdout"
        }
      ]
    },
    {
      "cell_type": "code",
      "metadata": {
        "colab": {
          "base_uri": "https://localhost:8080/"
        },
        "id": "lS1SPfHRIvdB",
        "outputId": "d91e23ed-1a36-4119-a21c-394b91187821"
      },
      "source": [
        "!wandb login"
      ],
      "execution_count": null,
      "outputs": [
        {
          "output_type": "stream",
          "text": [
            "\u001b[34m\u001b[1mwandb\u001b[0m: Currently logged in as: \u001b[33mdimaorekhov\u001b[0m (use `wandb login --relogin` to force relogin)\n"
          ],
          "name": "stdout"
        }
      ]
    },
    {
      "cell_type": "code",
      "metadata": {
        "id": "EKbtX4j8IkVZ"
      },
      "source": [
        "import torch\n",
        "from torch import nn\n",
        "from torch.utils.data import DataLoader\n",
        "import torchvision.models as models\n",
        "from torchvision import transforms, datasets\n",
        "from catalyst import dl\n",
        "from catalyst.contrib.callbacks import WandbLogger\n",
        "from catalyst.utils import set_global_seed\n",
        "from dataclasses import dataclass\n",
        "from tqdm.auto import tqdm\n",
        "from pathlib import Path\n",
        "\n",
        "from torchvision.models.resnet import ResNet, BasicBlock"
      ],
      "execution_count": null,
      "outputs": []
    },
    {
      "cell_type": "code",
      "metadata": {
        "id": "c1uHhFmIIkVZ"
      },
      "source": [
        "@dataclass\n",
        "class Config:\n",
        "\n",
        "    experiment_name: str = \"train-from-scratch\"\n",
        "\n",
        "    flip_prob: float = 0.5\n",
        "    rotation_degrees: float = 25\n",
        "\n",
        "    logdir: str = 'logdir_from_scratch'\n",
        "\n",
        "    student_layers: str = \"[1, 1, 1, 1]\"\n",
        "\n",
        "    max_lr: float = 1e-3\n",
        "    weight_decay: float = 1e-6\n",
        "\n",
        "    num_epochs: int = 100\n",
        "    batch_size: int = 32\n",
        "    patience: int = 2\n",
        "\n",
        "    seed: int = 21\n",
        "\n",
        "    def to_dict(self):\n",
        "        as_dict = {}\n",
        "        for key, val in self.__dict__.items():\n",
        "            if key in [\"student_layers\", \"student_to_teacher_layers_map\"]:\n",
        "                val = eval(val)\n",
        "            as_dict[key] = val\n",
        "        return as_dict\n",
        "\n",
        "\n",
        "config = Config()\n",
        "set_global_seed(config.seed)"
      ],
      "execution_count": null,
      "outputs": []
    },
    {
      "cell_type": "code",
      "metadata": {
        "id": "6CLRAmBiIkVZ"
      },
      "source": [
        "normalize = transforms.Normalize(\n",
        "    mean=[0.485, 0.456, 0.406],\n",
        "    std=[0.229, 0.224, 0.225]\n",
        ")\n",
        "\n",
        "RESIZE_BY = 256\n",
        "train_transforms = transforms.Compose([\n",
        "    transforms.Resize(RESIZE_BY),\n",
        "    transforms.RandomHorizontalFlip(config.flip_prob),\n",
        "    transforms.RandomRotation(config.rotation_degrees),\n",
        "    transforms.ToTensor(),\n",
        "    normalize\n",
        "])\n",
        "\n",
        "test_transforms = transforms.Compose([\n",
        "    transforms.Resize(RESIZE_BY),\n",
        "    transforms.ToTensor(),\n",
        "    normalize\n",
        "])"
      ],
      "execution_count": null,
      "outputs": []
    },
    {
      "cell_type": "markdown",
      "metadata": {
        "id": "-aA_L5yLIkVZ"
      },
      "source": [
        "I will be first finetuning teacher on CIFAR10, since all pretrained torchvision models are for ImageNet.\n",
        "\n",
        "And the ImageNet itself is too large to handle with computational resources I have."
      ]
    },
    {
      "cell_type": "code",
      "metadata": {
        "colab": {
          "base_uri": "https://localhost:8080/"
        },
        "id": "qZtwJdoOIkVZ",
        "outputId": "e01111d1-b05b-4915-a408-df4107accfca"
      },
      "source": [
        "train = datasets.CIFAR10('data', train=True, download=True, transform=train_transforms)\n",
        "test = datasets.CIFAR10('data', train=False, download=True, transform=test_transforms)\n",
        "print(len(train))\n",
        "print(len(test))\n",
        "\n",
        "\n",
        "N_CLASSES = 10"
      ],
      "execution_count": null,
      "outputs": [
        {
          "output_type": "stream",
          "text": [
            "Files already downloaded and verified\n",
            "Files already downloaded and verified\n",
            "50000\n",
            "10000\n"
          ],
          "name": "stdout"
        }
      ]
    },
    {
      "cell_type": "code",
      "metadata": {
        "id": "Lu_qGjbtIkVa"
      },
      "source": [
        "student = ResNet(\n",
        "    BasicBlock,\n",
        "    layers=eval(config.student_layers),\n",
        "    num_classes=N_CLASSES\n",
        ")"
      ],
      "execution_count": null,
      "outputs": []
    },
    {
      "cell_type": "code",
      "metadata": {
        "id": "-UGamXwxIkVa"
      },
      "source": [
        "loaders = {\n",
        "    'train': DataLoader(train, batch_size=config.batch_size, shuffle=True),\n",
        "    'valid': DataLoader(test, batch_size=config.batch_size)\n",
        "}\n",
        "\n",
        "criterion = nn.CrossEntropyLoss()\n",
        "optimizer = torch.optim.Adam(student.parameters(), weight_decay=config.weight_decay)\n",
        "scheduler = torch.optim.lr_scheduler.OneCycleLR(\n",
        "    optimizer,\n",
        "    max_lr=config.max_lr,\n",
        "    epochs=config.num_epochs,\n",
        "    steps_per_epoch=len(loaders['train'])\n",
        ")\n",
        "\n",
        "callbacks = [\n",
        "    dl.SchedulerCallback(mode='batch'),\n",
        "    dl.EarlyStoppingCallback(config.patience),\n",
        "    dl.AccuracyCallback(topk_args=[1, 3, 5], num_classes=N_CLASSES),\n",
        "    WandbLogger(\n",
        "        project='dl-course',\n",
        "        entity='dimaorekhov',\n",
        "        group='distillation',\n",
        "        name=config.experiment_name,\n",
        "        config=dict(config.to_dict())\n",
        "    )\n",
        "]"
      ],
      "execution_count": null,
      "outputs": []
    },
    {
      "cell_type": "code",
      "metadata": {
        "id": "55GMys-gIkVa"
      },
      "source": [
        "Path(config.logdir).mkdir(parents=True, exist_ok=True)"
      ],
      "execution_count": null,
      "outputs": []
    },
    {
      "cell_type": "code",
      "metadata": {
        "colab": {
          "base_uri": "https://localhost:8080/",
          "height": 1000,
          "referenced_widgets": [
            "3971ce84f06f4f37a6536467d67ab582",
            "1ea16706779b4a8d9ad41065c237d805",
            "1e07aa671f4f42c995085c9d6e93dbd2",
            "6e97ae20b856491096e137b6179564f3",
            "0c0f6c415d9b467e935c036a8ac1ab9e",
            "7705ac5361714412afcc16d5813167e5",
            "2af4bf382491417892019358c28481de",
            "8ff4b02fa55d49d3867b056b8505085c"
          ]
        },
        "id": "MFupOjywIkVa",
        "outputId": "86ff3acb-44c2-49f0-b8c6-a3c94f2354db"
      },
      "source": [
        "runner = dl.SupervisedRunner()\n",
        "runner.train(\n",
        "    model=student,\n",
        "    criterion=criterion,\n",
        "    optimizer=optimizer,\n",
        "    scheduler=scheduler,\n",
        "    loaders=loaders,\n",
        "    callbacks=callbacks,\n",
        "    num_epochs=config.num_epochs,\n",
        "    verbose=True,\n",
        "    logdir=config.logdir\n",
        ")"
      ],
      "execution_count": null,
      "outputs": [
        {
          "output_type": "stream",
          "text": [
            "\u001b[34m\u001b[1mwandb\u001b[0m: Currently logged in as: \u001b[33mdimaorekhov\u001b[0m (use `wandb login --relogin` to force relogin)\n"
          ],
          "name": "stderr"
        },
        {
          "output_type": "display_data",
          "data": {
            "text/html": [
              "\n",
              "                Tracking run with wandb version 0.10.11<br/>\n",
              "                Syncing run <strong style=\"color:#cdcd00\">train-from-scratch</strong> to <a href=\"https://wandb.ai\" target=\"_blank\">Weights & Biases</a> <a href=\"https://docs.wandb.com/integrations/jupyter.html\" target=\"_blank\">(Documentation)</a>.<br/>\n",
              "                Project page: <a href=\"https://wandb.ai/dimaorekhov/dl-course\" target=\"_blank\">https://wandb.ai/dimaorekhov/dl-course</a><br/>\n",
              "                Run page: <a href=\"https://wandb.ai/dimaorekhov/dl-course/runs/36lyomb0\" target=\"_blank\">https://wandb.ai/dimaorekhov/dl-course/runs/36lyomb0</a><br/>\n",
              "                Run data is saved locally in <code>logdir_from_scratch/wandb/run-20201130_123817-36lyomb0</code><br/><br/>\n",
              "            "
            ],
            "text/plain": [
              "<IPython.core.display.HTML object>"
            ]
          },
          "metadata": {
            "tags": []
          }
        },
        {
          "output_type": "stream",
          "text": [
            "1/100 * Epoch (train):   0% 1/1563 [00:00<06:33,  3.97it/s, accuracy01=0.062, accuracy03=0.312, accuracy05=0.531, loss=2.359, lr=4.000e-05, momentum=0.950]"
          ],
          "name": "stdout"
        },
        {
          "output_type": "stream",
          "text": [
            "/usr/local/lib/python3.6/dist-packages/torch/optim/lr_scheduler.py:1241: UserWarning:\n",
            "\n",
            "To get the last learning rate computed by the scheduler, please use `get_last_lr()`.\n",
            "\n"
          ],
          "name": "stderr"
        },
        {
          "output_type": "stream",
          "text": [
            "1/100 * Epoch (train): 100% 1563/1563 [04:27<00:00,  5.84it/s, accuracy01=0.562, accuracy03=0.812, accuracy05=0.875, loss=1.384, lr=4.263e-05, momentum=0.950]\n",
            "1/100 * Epoch (valid): 100% 313/313 [00:34<00:00,  9.10it/s, accuracy01=0.562, accuracy03=0.938, accuracy05=0.938, loss=1.282]\n",
            "[2020-11-30 12:43:20,734] \n",
            "1/100 * Epoch 1 (_base): lr=4.263e-05 | momentum=0.9497\n",
            "1/100 * Epoch 1 (train): accuracy01=0.4335 | accuracy03=0.7667 | accuracy05=0.8985 | loss=1.5707 | lr=4.088e-05 | momentum=0.9499\n",
            "1/100 * Epoch 1 (valid): accuracy01=0.5167 | accuracy03=0.8356 | accuracy05=0.9427 | loss=1.3331\n",
            "2/100 * Epoch (train): 100% 1563/1563 [04:30<00:00,  5.79it/s, accuracy01=0.625, accuracy03=0.875, accuracy05=0.938, loss=1.220, lr=5.049e-05, momentum=0.949]\n",
            "2/100 * Epoch (valid): 100% 313/313 [00:34<00:00,  9.10it/s, accuracy01=0.562, accuracy03=0.875, accuracy05=1.000, loss=1.031]\n",
            "[2020-11-30 12:48:25,703] \n",
            "2/100 * Epoch 2 (_base): lr=5.049e-05 | momentum=0.9489\n",
            "2/100 * Epoch 2 (train): accuracy01=0.5528 | accuracy03=0.8508 | accuracy05=0.9456 | loss=1.2523 | lr=4.613e-05 | momentum=0.9494\n",
            "2/100 * Epoch 2 (valid): accuracy01=0.6000 | accuracy03=0.8782 | accuracy05=0.9608 | loss=1.1205\n",
            "3/100 * Epoch (train): 100% 1563/1563 [04:30<00:00,  5.78it/s, accuracy01=0.750, accuracy03=0.938, accuracy05=1.000, loss=1.009, lr=6.349e-05, momentum=0.948]\n",
            "3/100 * Epoch (valid): 100% 313/313 [00:34<00:00,  9.01it/s, accuracy01=0.625, accuracy03=0.938, accuracy05=1.000, loss=0.920]\n",
            "[2020-11-30 12:53:32,206] \n",
            "3/100 * Epoch 3 (_base): lr=6.349e-05 | momentum=0.9476\n",
            "3/100 * Epoch 3 (train): accuracy01=0.6035 | accuracy03=0.8795 | accuracy05=0.9576 | loss=1.1198 | lr=5.657e-05 | momentum=0.9483\n",
            "3/100 * Epoch 3 (valid): accuracy01=0.6188 | accuracy03=0.8925 | accuracy05=0.9671 | loss=1.0533\n",
            "4/100 * Epoch (train): 100% 1563/1563 [04:29<00:00,  5.80it/s, accuracy01=0.562, accuracy03=0.750, accuracy05=0.938, loss=1.129, lr=8.150e-05, momentum=0.946]\n",
            "4/100 * Epoch (valid): 100% 313/313 [00:34<00:00,  9.11it/s, accuracy01=0.562, accuracy03=0.938, accuracy05=1.000, loss=1.032]\n",
            "[2020-11-30 12:58:36,541] \n",
            "4/100 * Epoch 4 (_base): lr=8.150e-05 | momentum=0.9457\n",
            "4/100 * Epoch 4 (train): accuracy01=0.6373 | accuracy03=0.8968 | accuracy05=0.9674 | loss=1.0232 | lr=7.209e-05 | momentum=0.9467\n",
            "4/100 * Epoch 4 (valid): accuracy01=0.6501 | accuracy03=0.9119 | accuracy05=0.9728 | loss=0.9688\n",
            "5/100 * Epoch (train): 100% 1563/1563 [04:27<00:00,  5.83it/s, accuracy01=0.688, accuracy03=0.938, accuracy05=0.938, loss=0.972, lr=1.043e-04, momentum=0.943]\n",
            "5/100 * Epoch (valid): 100% 313/313 [00:33<00:00,  9.21it/s, accuracy01=0.625, accuracy03=0.938, accuracy05=1.000, loss=0.862]\n",
            "[2020-11-30 13:03:39,016] \n",
            "5/100 * Epoch 5 (_base): lr=0.0001 | momentum=0.9433\n",
            "5/100 * Epoch 5 (train): accuracy01=0.6657 | accuracy03=0.9084 | accuracy05=0.9717 | loss=0.9516 | lr=9.252e-05 | momentum=0.9445\n",
            "5/100 * Epoch 5 (valid): accuracy01=0.7026 | accuracy03=0.9265 | accuracy05=0.9760 | loss=0.8522\n",
            "6/100 * Epoch (train): 100% 1563/1563 [04:27<00:00,  5.85it/s, accuracy01=0.812, accuracy03=0.938, accuracy05=0.938, loss=0.695, lr=1.317e-04, momentum=0.940]\n",
            "6/100 * Epoch (valid): 100% 313/313 [00:33<00:00,  9.23it/s, accuracy01=0.625, accuracy03=1.000, accuracy05=1.000, loss=0.873]\n",
            "[2020-11-30 13:08:40,633] \n",
            "6/100 * Epoch 6 (_base): lr=0.0001 | momentum=0.9405\n",
            "6/100 * Epoch 6 (train): accuracy01=0.6873 | accuracy03=0.9179 | accuracy05=0.9744 | loss=0.8900 | lr=0.0001 | momentum=0.9419\n",
            "6/100 * Epoch 6 (valid): accuracy01=0.6986 | accuracy03=0.9269 | accuracy05=0.9774 | loss=0.8599\n",
            "7/100 * Epoch (train): 100% 1563/1563 [04:25<00:00,  5.88it/s, accuracy01=0.688, accuracy03=1.000, accuracy05=1.000, loss=0.775, lr=1.633e-04, momentum=0.937]\n",
            "7/100 * Epoch (valid): 100% 313/313 [00:33<00:00,  9.35it/s, accuracy01=0.625, accuracy03=1.000, accuracy05=1.000, loss=0.747]\n",
            "[2020-11-30 13:13:40,363] \n",
            "7/100 * Epoch 7 (_base): lr=0.0002 | momentum=0.9372\n",
            "7/100 * Epoch 7 (train): accuracy01=0.7077 | accuracy03=0.9260 | accuracy05=0.9781 | loss=0.8346 | lr=0.0001 | momentum=0.9388\n",
            "7/100 * Epoch 7 (valid): accuracy01=0.7254 | accuracy03=0.9319 | accuracy05=0.9827 | loss=0.7954\n",
            "8/100 * Epoch (train): 100% 1563/1563 [04:24<00:00,  5.90it/s, accuracy01=0.812, accuracy03=1.000, accuracy05=1.000, loss=0.616, lr=1.988e-04, momentum=0.933]\n",
            "8/100 * Epoch (valid): 100% 313/313 [00:33<00:00,  9.33it/s, accuracy01=0.750, accuracy03=1.000, accuracy05=1.000, loss=0.522]\n",
            "[2020-11-30 13:18:39,337] \n",
            "8/100 * Epoch 8 (_base): lr=0.0002 | momentum=0.9335\n",
            "8/100 * Epoch 8 (train): accuracy01=0.7291 | accuracy03=0.9324 | accuracy05=0.9790 | loss=0.7818 | lr=0.0002 | momentum=0.9353\n",
            "8/100 * Epoch 8 (valid): accuracy01=0.7438 | accuracy03=0.9413 | accuracy05=0.9823 | loss=0.7450\n",
            "9/100 * Epoch (train): 100% 1563/1563 [04:27<00:00,  5.84it/s, accuracy01=0.750, accuracy03=0.875, accuracy05=1.000, loss=0.650, lr=2.379e-04, momentum=0.929]\n",
            "9/100 * Epoch (valid): 100% 313/313 [00:33<00:00,  9.28it/s, accuracy01=0.625, accuracy03=1.000, accuracy05=1.000, loss=0.664]\n",
            "[2020-11-30 13:23:41,135] \n",
            "9/100 * Epoch 9 (_base): lr=0.0002 | momentum=0.9294\n",
            "9/100 * Epoch 9 (train): accuracy01=0.7465 | accuracy03=0.9409 | accuracy05=0.9833 | loss=0.7308 | lr=0.0002 | momentum=0.9315\n",
            "9/100 * Epoch 9 (valid): accuracy01=0.7412 | accuracy03=0.9400 | accuracy05=0.9856 | loss=0.7414\n",
            "10/100 * Epoch (train): 100% 1563/1563 [04:25<00:00,  5.88it/s, accuracy01=0.750, accuracy03=1.000, accuracy05=1.000, loss=0.562, lr=2.800e-04, momentum=0.925]\n",
            "10/100 * Epoch (valid): 100% 313/313 [00:33<00:00,  9.42it/s, accuracy01=0.688, accuracy03=1.000, accuracy05=1.000, loss=0.482]\n",
            "[2020-11-30 13:28:40,576] \n",
            "10/100 * Epoch 10 (_base): lr=0.0003 | momentum=0.9250\n",
            "10/100 * Epoch 10 (train): accuracy01=0.7632 | accuracy03=0.9450 | accuracy05=0.9847 | loss=0.6873 | lr=0.0003 | momentum=0.9272\n",
            "10/100 * Epoch 10 (valid): accuracy01=0.7849 | accuracy03=0.9561 | accuracy05=0.9887 | loss=0.6296\n",
            "11/100 * Epoch (train): 100% 1563/1563 [04:24<00:00,  5.91it/s, accuracy01=0.750, accuracy03=0.750, accuracy05=0.938, loss=1.221, lr=3.248e-04, momentum=0.920]\n",
            "11/100 * Epoch (valid): 100% 313/313 [00:33<00:00,  9.42it/s, accuracy01=0.812, accuracy03=1.000, accuracy05=1.000, loss=0.442]\n",
            "[2020-11-30 13:33:38,760] \n",
            "11/100 * Epoch 11 (_base): lr=0.0003 | momentum=0.9203\n",
            "11/100 * Epoch 11 (train): accuracy01=0.7735 | accuracy03=0.9509 | accuracy05=0.9861 | loss=0.6531 | lr=0.0003 | momentum=0.9227\n",
            "11/100 * Epoch 11 (valid): accuracy01=0.7656 | accuracy03=0.9486 | accuracy05=0.9887 | loss=0.6973\n",
            "12/100 * Epoch (train): 100% 1563/1563 [04:23<00:00,  5.93it/s, accuracy01=0.812, accuracy03=0.938, accuracy05=1.000, loss=0.404, lr=3.717e-04, momentum=0.915]\n",
            "12/100 * Epoch (valid): 100% 313/313 [00:33<00:00,  9.47it/s, accuracy01=0.812, accuracy03=1.000, accuracy05=1.000, loss=0.547]\n",
            "[2020-11-30 13:38:35,681] \n",
            "12/100 * Epoch 12 (_base): lr=0.0004 | momentum=0.9154\n",
            "12/100 * Epoch 12 (train): accuracy01=0.7899 | accuracy03=0.9549 | accuracy05=0.9881 | loss=0.6121 | lr=0.0003 | momentum=0.9179\n",
            "12/100 * Epoch 12 (valid): accuracy01=0.7867 | accuracy03=0.9564 | accuracy05=0.9893 | loss=0.6275\n",
            "13/100 * Epoch (train): 100% 1563/1563 [04:22<00:00,  5.95it/s, accuracy01=0.562, accuracy03=0.812, accuracy05=1.000, loss=1.030, lr=4.202e-04, momentum=0.910]\n",
            "13/100 * Epoch (valid): 100% 313/313 [00:32<00:00,  9.52it/s, accuracy01=0.750, accuracy03=0.938, accuracy05=1.000, loss=0.610]\n",
            "[2020-11-30 13:43:31,919] \n",
            "13/100 * Epoch 13 (_base): lr=0.0004 | momentum=0.9104\n",
            "13/100 * Epoch 13 (train): accuracy01=0.7995 | accuracy03=0.9584 | accuracy05=0.9892 | loss=0.5847 | lr=0.0004 | momentum=0.9129\n",
            "13/100 * Epoch 13 (valid): accuracy01=0.8051 | accuracy03=0.9632 | accuracy05=0.9923 | loss=0.5542\n",
            "14/100 * Epoch (train): 100% 1563/1563 [04:22<00:00,  5.96it/s, accuracy01=0.875, accuracy03=1.000, accuracy05=1.000, loss=0.482, lr=4.698e-04, momentum=0.905]\n",
            "14/100 * Epoch (valid): 100% 313/313 [00:32<00:00,  9.52it/s, accuracy01=0.812, accuracy03=1.000, accuracy05=1.000, loss=0.451]\n",
            "[2020-11-30 13:48:27,656] \n",
            "14/100 * Epoch 14 (_base): lr=0.0005 | momentum=0.9052\n",
            "14/100 * Epoch 14 (train): accuracy01=0.8101 | accuracy03=0.9608 | accuracy05=0.9901 | loss=0.5519 | lr=0.0004 | momentum=0.9078\n",
            "14/100 * Epoch 14 (valid): accuracy01=0.8233 | accuracy03=0.9672 | accuracy05=0.9912 | loss=0.5094\n",
            "15/100 * Epoch (train): 100% 1563/1563 [04:22<00:00,  5.96it/s, accuracy01=0.812, accuracy03=0.938, accuracy05=1.000, loss=0.643, lr=5.200e-04, momentum=0.900]\n",
            "15/100 * Epoch (valid): 100% 313/313 [00:33<00:00,  9.45it/s, accuracy01=0.875, accuracy03=1.000, accuracy05=1.000, loss=0.498]\n",
            "[2020-11-30 13:53:23,632] \n",
            "15/100 * Epoch 15 (_base): lr=0.0005 | momentum=0.9000\n",
            "15/100 * Epoch 15 (train): accuracy01=0.8205 | accuracy03=0.9646 | accuracy05=0.9918 | loss=0.5183 | lr=0.0005 | momentum=0.9026\n",
            "15/100 * Epoch 15 (valid): accuracy01=0.8203 | accuracy03=0.9606 | accuracy05=0.9904 | loss=0.5547\n",
            "16/100 * Epoch (train): 100% 1563/1563 [04:22<00:00,  5.95it/s, accuracy01=0.750, accuracy03=1.000, accuracy05=1.000, loss=0.451, lr=5.702e-04, momentum=0.895]\n",
            "16/100 * Epoch (valid): 100% 313/313 [00:32<00:00,  9.53it/s, accuracy01=0.812, accuracy03=1.000, accuracy05=1.000, loss=0.447]\n",
            "[2020-11-30 13:58:19,395] \n",
            "16/100 * Epoch 16 (_base): lr=0.0006 | momentum=0.8948\n",
            "16/100 * Epoch 16 (train): accuracy01=0.8292 | accuracy03=0.9688 | accuracy05=0.9929 | loss=0.4921 | lr=0.0005 | momentum=0.8974\n",
            "16/100 * Epoch 16 (valid): accuracy01=0.8349 | accuracy03=0.9712 | accuracy05=0.9934 | loss=0.4870\n",
            "17/100 * Epoch (train): 100% 1563/1563 [04:22<00:00,  5.96it/s, accuracy01=0.812, accuracy03=0.938, accuracy05=1.000, loss=0.517, lr=6.198e-04, momentum=0.890]\n",
            "17/100 * Epoch (valid): 100% 313/313 [00:32<00:00,  9.51it/s, accuracy01=0.812, accuracy03=1.000, accuracy05=1.000, loss=0.320]\n",
            "[2020-11-30 14:03:15,004] \n",
            "17/100 * Epoch 17 (_base): lr=0.0006 | momentum=0.8896\n",
            "17/100 * Epoch 17 (train): accuracy01=0.8371 | accuracy03=0.9695 | accuracy05=0.9930 | loss=0.4727 | lr=0.0006 | momentum=0.8922\n",
            "17/100 * Epoch 17 (valid): accuracy01=0.8308 | accuracy03=0.9728 | accuracy05=0.9932 | loss=0.4882\n",
            "18/100 * Epoch (train): 100% 1563/1563 [04:21<00:00,  5.98it/s, accuracy01=0.812, accuracy03=0.938, accuracy05=1.000, loss=0.443, lr=6.683e-04, momentum=0.885]\n",
            "18/100 * Epoch (valid): 100% 313/313 [00:32<00:00,  9.69it/s, accuracy01=0.875, accuracy03=0.938, accuracy05=1.000, loss=0.429]\n",
            "[2020-11-30 14:08:08,965] \n",
            "18/100 * Epoch 18 (_base): lr=0.0007 | momentum=0.8845\n",
            "18/100 * Epoch 18 (train): accuracy01=0.8476 | accuracy03=0.9736 | accuracy05=0.9942 | loss=0.4402 | lr=0.0006 | momentum=0.8871\n",
            "18/100 * Epoch 18 (valid): accuracy01=0.8428 | accuracy03=0.9772 | accuracy05=0.9940 | loss=0.4540\n",
            "19/100 * Epoch (train): 100% 1563/1563 [04:19<00:00,  6.02it/s, accuracy01=0.875, accuracy03=1.000, accuracy05=1.000, loss=0.282, lr=7.153e-04, momentum=0.880]\n",
            "19/100 * Epoch (valid): 100% 313/313 [00:32<00:00,  9.76it/s, accuracy01=0.812, accuracy03=1.000, accuracy05=1.000, loss=0.277]\n",
            "[2020-11-30 14:13:00,965] \n",
            "19/100 * Epoch 19 (_base): lr=0.0007 | momentum=0.8797\n",
            "19/100 * Epoch 19 (train): accuracy01=0.8545 | accuracy03=0.9748 | accuracy05=0.9941 | loss=0.4239 | lr=0.0007 | momentum=0.8821\n",
            "19/100 * Epoch 19 (valid): accuracy01=0.8332 | accuracy03=0.9749 | accuracy05=0.9952 | loss=0.4808\n",
            "20/100 * Epoch (train): 100% 1563/1563 [04:18<00:00,  6.06it/s, accuracy01=0.938, accuracy03=1.000, accuracy05=1.000, loss=0.138, lr=7.600e-04, momentum=0.875]\n",
            "20/100 * Epoch (valid): 100% 313/313 [00:31<00:00,  9.79it/s, accuracy01=0.750, accuracy03=1.000, accuracy05=1.000, loss=0.715]\n",
            "[2020-11-30 14:17:51,320] \n",
            "20/100 * Epoch 20 (_base): lr=0.0008 | momentum=0.8750\n",
            "20/100 * Epoch 20 (train): accuracy01=0.8648 | accuracy03=0.9780 | accuracy05=0.9952 | loss=0.3968 | lr=0.0007 | momentum=0.8773\n",
            "20/100 * Epoch 20 (valid): accuracy01=0.8500 | accuracy03=0.9739 | accuracy05=0.9937 | loss=0.4431\n",
            "21/100 * Epoch (train): 100% 1563/1563 [04:17<00:00,  6.06it/s, accuracy01=0.938, accuracy03=1.000, accuracy05=1.000, loss=0.091, lr=8.022e-04, momentum=0.871]\n",
            "21/100 * Epoch (valid): 100% 313/313 [00:31<00:00,  9.78it/s, accuracy01=0.812, accuracy03=1.000, accuracy05=1.000, loss=0.279]\n",
            "[2020-11-30 14:22:41,520] \n",
            "21/100 * Epoch 21 (_base): lr=0.0008 | momentum=0.8706\n",
            "21/100 * Epoch 21 (train): accuracy01=0.8702 | accuracy03=0.9791 | accuracy05=0.9957 | loss=0.3765 | lr=0.0008 | momentum=0.8728\n",
            "21/100 * Epoch 21 (valid): accuracy01=0.8552 | accuracy03=0.9775 | accuracy05=0.9958 | loss=0.4229\n",
            "22/100 * Epoch (train): 100% 1563/1563 [04:17<00:00,  6.07it/s, accuracy01=0.875, accuracy03=1.000, accuracy05=1.000, loss=0.267, lr=8.412e-04, momentum=0.867]\n",
            "22/100 * Epoch (valid): 100% 313/313 [00:31<00:00,  9.84it/s, accuracy01=0.688, accuracy03=1.000, accuracy05=1.000, loss=0.472]\n",
            "[2020-11-30 14:27:31,384] \n",
            "22/100 * Epoch 22 (_base): lr=0.0008 | momentum=0.8665\n",
            "22/100 * Epoch 22 (train): accuracy01=0.8781 | accuracy03=0.9812 | accuracy05=0.9964 | loss=0.3544 | lr=0.0008 | momentum=0.8685\n",
            "22/100 * Epoch 22 (valid): accuracy01=0.8371 | accuracy03=0.9721 | accuracy05=0.9947 | loss=0.4846\n",
            "23/100 * Epoch (train): 100% 1563/1563 [04:17<00:00,  6.08it/s, accuracy01=0.875, accuracy03=0.938, accuracy05=1.000, loss=0.406, lr=8.767e-04, momentum=0.863]\n",
            "23/100 * Epoch (valid): 100% 313/313 [00:31<00:00,  9.80it/s, accuracy01=0.875, accuracy03=1.000, accuracy05=1.000, loss=0.451]\n",
            "[2020-11-30 14:32:20,931] \n",
            "23/100 * Epoch 23 (_base): lr=0.0009 | momentum=0.8628\n",
            "23/100 * Epoch 23 (train): accuracy01=0.8814 | accuracy03=0.9824 | accuracy05=0.9968 | loss=0.3399 | lr=0.0009 | momentum=0.8647\n",
            "23/100 * Epoch 23 (valid): accuracy01=0.8665 | accuracy03=0.9769 | accuracy05=0.9940 | loss=0.4024\n",
            "24/100 * Epoch (train): 100% 1563/1563 [04:16<00:00,  6.09it/s, accuracy01=0.875, accuracy03=0.938, accuracy05=0.938, loss=0.457, lr=9.083e-04, momentum=0.860]\n",
            "24/100 * Epoch (valid): 100% 313/313 [00:32<00:00,  9.77it/s, accuracy01=0.750, accuracy03=0.938, accuracy05=1.000, loss=0.449]\n",
            "[2020-11-30 14:37:10,176] \n",
            "24/100 * Epoch 24 (_base): lr=0.0009 | momentum=0.8595\n",
            "24/100 * Epoch 24 (train): accuracy01=0.8904 | accuracy03=0.9849 | accuracy05=0.9972 | loss=0.3144 | lr=0.0009 | momentum=0.8612\n",
            "24/100 * Epoch 24 (valid): accuracy01=0.8572 | accuracy03=0.9746 | accuracy05=0.9919 | loss=0.4432\n",
            "25/100 * Epoch (train): 100% 1563/1563 [04:17<00:00,  6.08it/s, accuracy01=0.875, accuracy03=1.000, accuracy05=1.000, loss=0.183, lr=9.357e-04, momentum=0.857]\n",
            "25/100 * Epoch (valid): 100% 313/313 [00:32<00:00,  9.70it/s, accuracy01=0.938, accuracy03=1.000, accuracy05=1.000, loss=0.279]\n",
            "[2020-11-30 14:41:59,817] \n",
            "25/100 * Epoch 25 (_base): lr=0.0009 | momentum=0.8567\n",
            "25/100 * Epoch 25 (train): accuracy01=0.8960 | accuracy03=0.9868 | accuracy05=0.9976 | loss=0.3000 | lr=0.0009 | momentum=0.8581\n",
            "25/100 * Epoch 25 (valid): accuracy01=0.8778 | accuracy03=0.9814 | accuracy05=0.9951 | loss=0.3744\n",
            "26/100 * Epoch (train): 100% 1563/1563 [04:22<00:00,  5.96it/s, accuracy01=0.688, accuracy03=0.938, accuracy05=0.938, loss=1.059, lr=9.585e-04, momentum=0.854]\n",
            "26/100 * Epoch (valid): 100% 313/313 [00:32<00:00,  9.51it/s, accuracy01=0.750, accuracy03=0.938, accuracy05=1.000, loss=0.529]\n",
            "[2020-11-30 14:46:55,675] \n",
            "26/100 * Epoch 26 (_base): lr=0.0010 | momentum=0.8543\n",
            "26/100 * Epoch 26 (train): accuracy01=0.9019 | accuracy03=0.9876 | accuracy05=0.9977 | loss=0.2821 | lr=0.0009 | momentum=0.8555\n",
            "26/100 * Epoch 26 (valid): accuracy01=0.8719 | accuracy03=0.9777 | accuracy05=0.9953 | loss=0.3927\n",
            "27/100 * Epoch (train): 100% 1563/1563 [04:20<00:00,  5.99it/s, accuracy01=0.938, accuracy03=1.000, accuracy05=1.000, loss=0.076, lr=9.765e-04, momentum=0.852]\n",
            "27/100 * Epoch (valid): 100% 313/313 [00:32<00:00,  9.72it/s, accuracy01=0.812, accuracy03=1.000, accuracy05=1.000, loss=0.607]\n",
            "[2020-11-30 14:51:49,095] \n",
            "27/100 * Epoch 27 (_base): lr=0.0010 | momentum=0.8524\n",
            "27/100 * Epoch 27 (train): accuracy01=0.9070 | accuracy03=0.9887 | accuracy05=0.9982 | loss=0.2648 | lr=0.0010 | momentum=0.8533\n",
            "27/100 * Epoch 27 (valid): accuracy01=0.8782 | accuracy03=0.9821 | accuracy05=0.9955 | loss=0.3784\n",
            "Early stop at 27 epoch\n"
          ],
          "name": "stdout"
        },
        {
          "output_type": "display_data",
          "data": {
            "text/html": [
              "<br/>Waiting for W&B process to finish, PID 606<br/>Program ended successfully."
            ],
            "text/plain": [
              "<IPython.core.display.HTML object>"
            ]
          },
          "metadata": {
            "tags": []
          }
        },
        {
          "output_type": "display_data",
          "data": {
            "application/vnd.jupyter.widget-view+json": {
              "model_id": "3971ce84f06f4f37a6536467d67ab582",
              "version_minor": 0,
              "version_major": 2
            },
            "text/plain": [
              "VBox(children=(Label(value=' 0.01MB of 0.01MB uploaded (0.00MB deduped)\\r'), FloatProgress(value=1.0, max=1.0)…"
            ]
          },
          "metadata": {
            "tags": []
          }
        },
        {
          "output_type": "display_data",
          "data": {
            "text/html": [
              "Find user logs for this run at: <code>logdir_from_scratch/wandb/run-20201130_123817-36lyomb0/logs/debug.log</code>"
            ],
            "text/plain": [
              "<IPython.core.display.HTML object>"
            ]
          },
          "metadata": {
            "tags": []
          }
        },
        {
          "output_type": "display_data",
          "data": {
            "text/html": [
              "Find internal logs for this run at: <code>logdir_from_scratch/wandb/run-20201130_123817-36lyomb0/logs/debug-internal.log</code>"
            ],
            "text/plain": [
              "<IPython.core.display.HTML object>"
            ]
          },
          "metadata": {
            "tags": []
          }
        },
        {
          "output_type": "display_data",
          "data": {
            "text/html": [
              "<h3>Run summary:</h3><br/><style>\n",
              "    table.wandb td:nth-child(1) { padding: 0 10px; text-align: right }\n",
              "    </style><table class=\"wandb\">\n",
              "<tr><td>accuracy01/train</td><td>0.90704</td></tr><tr><td>accuracy03/train</td><td>0.98874</td></tr><tr><td>accuracy05/train</td><td>0.99822</td></tr><tr><td>loss/train</td><td>0.26476</td></tr><tr><td>lr/train</td><td>0.00097</td></tr><tr><td>momentum/train</td><td>0.85334</td></tr><tr><td>accuracy01/valid</td><td>0.8782</td></tr><tr><td>accuracy03/valid</td><td>0.9821</td></tr><tr><td>accuracy05/valid</td><td>0.9955</td></tr><tr><td>loss/valid</td><td>0.37839</td></tr><tr><td>lr/_base</td><td>0.00098</td></tr><tr><td>momentum/_base</td><td>0.85245</td></tr><tr><td>_step</td><td>27</td></tr><tr><td>_runtime</td><td>8012</td></tr><tr><td>_timestamp</td><td>1606747909</td></tr></table>"
            ],
            "text/plain": [
              "<IPython.core.display.HTML object>"
            ]
          },
          "metadata": {
            "tags": []
          }
        },
        {
          "output_type": "display_data",
          "data": {
            "text/html": [
              "<h3>Run history:</h3><br/><style>\n",
              "    table.wandb td:nth-child(1) { padding: 0 10px; text-align: right }\n",
              "    </style><table class=\"wandb\">\n",
              "<tr><td>accuracy01/train</td><td>▁▃▄▄▄▅▅▅▆▆▆▆▆▇▇▇▇▇▇▇▇██████</td></tr><tr><td>accuracy03/train</td><td>▁▄▅▅▅▆▆▆▆▇▇▇▇▇▇▇▇██████████</td></tr><tr><td>accuracy05/train</td><td>▁▄▅▆▆▆▇▇▇▇▇▇▇▇█████████████</td></tr><tr><td>loss/train</td><td>█▆▆▅▅▄▄▄▃▃▃▃▃▃▂▂▂▂▂▂▂▁▁▁▁▁▁</td></tr><tr><td>lr/train</td><td>▁▁▁▁▁▂▂▂▂▃▃▃▄▄▄▅▅▆▆▆▇▇▇▇███</td></tr><tr><td>momentum/train</td><td>█████▇▇▇▇▆▆▆▅▅▅▄▄▃▃▃▂▂▂▂▁▁▁</td></tr><tr><td>accuracy01/valid</td><td>▁▃▃▄▅▅▅▅▅▆▆▆▇▇▇▇▇▇▇▇█▇█████</td></tr><tr><td>accuracy03/valid</td><td>▁▃▄▅▅▅▆▆▆▇▆▇▇▇▇▇███████████</td></tr><tr><td>accuracy05/valid</td><td>▁▃▄▅▅▆▆▆▇▇▇▇█▇▇████████▇███</td></tr><tr><td>loss/valid</td><td>█▆▆▅▄▅▄▄▄▃▃▃▂▂▂▂▂▂▂▂▁▂▁▂▁▁▁</td></tr><tr><td>lr/_base</td><td>▁▁▁▁▁▂▂▂▂▃▃▃▄▄▅▅▅▆▆▆▇▇▇▇███</td></tr><tr><td>momentum/_base</td><td>█████▇▇▇▇▆▆▆▅▅▄▄▄▃▃▃▂▂▂▂▁▁▁</td></tr><tr><td>_step</td><td>▁▁▂▂▂▂▃▃▃▃▄▄▄▅▅▅▅▆▆▆▆▇▇▇▇██</td></tr><tr><td>_runtime</td><td>▁▁▂▂▂▂▃▃▃▃▄▄▄▅▅▅▅▆▆▆▆▇▇▇▇██</td></tr><tr><td>_timestamp</td><td>▁▁▂▂▂▂▃▃▃▃▄▄▄▅▅▅▅▆▆▆▆▇▇▇▇██</td></tr></table><br/>"
            ],
            "text/plain": [
              "<IPython.core.display.HTML object>"
            ]
          },
          "metadata": {
            "tags": []
          }
        },
        {
          "output_type": "display_data",
          "data": {
            "text/html": [
              "Synced 5 W&B file(s), 1 media file(s), 0 artifact file(s) and 0 other file(s)"
            ],
            "text/plain": [
              "<IPython.core.display.HTML object>"
            ]
          },
          "metadata": {
            "tags": []
          }
        },
        {
          "output_type": "display_data",
          "data": {
            "text/html": [
              "\n",
              "                    <br/>Synced <strong style=\"color:#cdcd00\">train-from-scratch</strong>: <a href=\"https://wandb.ai/dimaorekhov/dl-course/runs/36lyomb0\" target=\"_blank\">https://wandb.ai/dimaorekhov/dl-course/runs/36lyomb0</a><br/>\n",
              "                "
            ],
            "text/plain": [
              "<IPython.core.display.HTML object>"
            ]
          },
          "metadata": {
            "tags": []
          }
        },
        {
          "output_type": "stream",
          "text": [
            "Top best models:\n",
            "logdir_from_scratch/checkpoints/train.25.pth\t0.3744\n"
          ],
          "name": "stdout"
        }
      ]
    },
    {
      "cell_type": "code",
      "metadata": {
        "id": "abgnF73GIkVa"
      },
      "source": [
        ""
      ],
      "execution_count": null,
      "outputs": []
    }
  ]
}